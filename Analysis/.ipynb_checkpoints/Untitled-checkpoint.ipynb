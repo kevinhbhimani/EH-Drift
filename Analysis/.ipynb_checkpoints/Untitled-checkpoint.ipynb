{
 "cells": [
  {
   "cell_type": "code",
   "execution_count": 6,
   "id": "6931c8ea-b41f-4008-a856-22705533aa97",
   "metadata": {},
   "outputs": [
    {
     "data": {
      "text/html": [
       "<style>.container { width:100% !important; }</style>"
      ],
      "text/plain": [
       "<IPython.core.display.HTML object>"
      ]
     },
     "metadata": {},
     "output_type": "display_data"
    }
   ],
   "source": [
    "import numpy as np\n",
    "import matplotlib.pyplot as plt\n",
    "plt.style.use('default')\n",
    "import matplotlib\n",
    "import pandas as pd\n",
    "import os\n",
    "import re\n",
    "from tqdm import tqdm\n",
    "from dspeed.processors.trap_filters import trap_norm\n",
    "\n",
    "color_array=np.linspace(0,1,11)\n",
    "cmap = plt.cm.tab20b\n",
    "\n",
    "from IPython.display import display, HTML\n",
    "display(HTML(\"<style>.container { width:100% !important; }</style>\")) #makes the notebook wider\n",
    "plt.style.use('default')\n",
    "import h5py\n"
   ]
  },
  {
   "cell_type": "code",
   "execution_count": 5,
   "id": "6ef44095-89b9-411d-84d8-71fbda336a23",
   "metadata": {},
   "outputs": [
    {
     "ename": "AttributeError",
     "evalue": "'numpy.int8' object has no attribute 'decode'",
     "output_type": "error",
     "traceback": [
      "\u001b[0;31m---------------------------------------------------------------------------\u001b[0m",
      "\u001b[0;31mAttributeError\u001b[0m                            Traceback (most recent call last)",
      "Cell \u001b[0;32mIn[5], line 18\u001b[0m\n\u001b[1;32m     15\u001b[0m grid \u001b[38;5;241m=\u001b[39m file[\u001b[38;5;124m'\u001b[39m\u001b[38;5;124m/grid\u001b[39m\u001b[38;5;124m'\u001b[39m][\u001b[38;5;241m0\u001b[39m]\n\u001b[1;32m     17\u001b[0m \u001b[38;5;66;03m# Read attributes\u001b[39;00m\n\u001b[0;32m---> 18\u001b[0m detector_name \u001b[38;5;241m=\u001b[39m file\u001b[38;5;241m.\u001b[39mattrs[\u001b[38;5;124m'\u001b[39m\u001b[38;5;124mdetector_name\u001b[39m\u001b[38;5;124m'\u001b[39m]\u001b[38;5;241m.\u001b[39mdecode(\u001b[38;5;124m'\u001b[39m\u001b[38;5;124mutf-8\u001b[39m\u001b[38;5;124m'\u001b[39m)  \u001b[38;5;66;03m# Assuming it's stored as a byte string\u001b[39;00m\n\u001b[1;32m     19\u001b[0m surface_charge \u001b[38;5;241m=\u001b[39m file\u001b[38;5;241m.\u001b[39mattrs[\u001b[38;5;124m'\u001b[39m\u001b[38;5;124msurface_charge\u001b[39m\u001b[38;5;124m'\u001b[39m]\n\u001b[1;32m     20\u001b[0m self_repulsion \u001b[38;5;241m=\u001b[39m file\u001b[38;5;241m.\u001b[39mattrs[\u001b[38;5;124m'\u001b[39m\u001b[38;5;124mself_repulsion\u001b[39m\u001b[38;5;124m'\u001b[39m]\n",
      "\u001b[0;31mAttributeError\u001b[0m: 'numpy.int8' object has no attribute 'decode'"
     ]
    }
   ],
   "source": [
    "import h5py\n",
    "\n",
    "file_path = '/nas/longleaf/home/kbhimani/siggen_ccd/waveforms/signal_data_5000.00_keV_grid0.0500_P42575A_q0.00_r15.00_z0.05.h5'\n",
    "\n",
    "# Open the HDF5 file\n",
    "with h5py.File(file_path, 'r') as file:\n",
    "    # Read the waveform dataset\n",
    "    waveform = file['/waveform'][:]\n",
    "\n",
    "    # Read other datasets\n",
    "    energy = file['/energy'][0]\n",
    "    r = file['/r'][0]\n",
    "    z = file['/z'][0]\n",
    "    grid = file['/grid'][0]\n",
    "\n",
    "    # Read attributes\n",
    "    detector_name = file.attrs['detector_name'].decode('utf-8')  # Assuming it's stored as a byte string\n",
    "    surface_charge = file.attrs['surface_charge']\n",
    "    self_repulsion = file.attrs['self_repulsion']\n",
    "\n",
    "    # Now you can use the data\n",
    "    print(\"Waveform:\", waveform)\n",
    "    print(\"Energy:\", energy)\n",
    "    print(\"r:\", r)\n",
    "    print(\"z:\", z)\n",
    "    print(\"Grid:\", grid)\n",
    "    print(\"Detector Name:\", detector_name)\n",
    "    print(\"Surface Charge:\", surface_charge)\n",
    "    print(\"Self Repulsion:\", self_repulsion)\n"
   ]
  },
  {
   "cell_type": "code",
   "execution_count": null,
   "id": "febd1603-72fc-464d-9b65-6fd0dc11be81",
   "metadata": {},
   "outputs": [],
   "source": []
  }
 ],
 "metadata": {
  "kernelspec": {
   "display_name": "legend-sw",
   "language": "python",
   "name": "legend-software"
  },
  "language_info": {
   "codemirror_mode": {
    "name": "ipython",
    "version": 3
   },
   "file_extension": ".py",
   "mimetype": "text/x-python",
   "name": "python",
   "nbconvert_exporter": "python",
   "pygments_lexer": "ipython3",
   "version": "3.11.3"
  }
 },
 "nbformat": 4,
 "nbformat_minor": 5
}
