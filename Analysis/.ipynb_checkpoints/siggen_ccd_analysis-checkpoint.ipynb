{
 "cells": [
  {
   "cell_type": "code",
   "execution_count": 1,
   "id": "fbfe09f6",
   "metadata": {},
   "outputs": [
    {
     "data": {
      "text/html": [
       "<style>.container { width:100% !important; }</style>"
      ],
      "text/plain": [
       "<IPython.core.display.HTML object>"
      ]
     },
     "metadata": {},
     "output_type": "display_data"
    }
   ],
   "source": [
    "import numpy as np\n",
    "import matplotlib.pyplot as plt\n",
    "plt.style.use('default')\n",
    "import matplotlib\n",
    "import pandas as pd\n",
    "import os\n",
    "import re\n",
    "from tqdm import tqdm\n",
    "\n",
    "color_array=np.linspace(0,1,11)\n",
    "cmap = plt.cm.tab20b\n",
    "\n",
    "from IPython.display import display, HTML\n",
    "display(HTML(\"<style>.container { width:100% !important; }</style>\")) #makes the notebook wider\n",
    "plt.style.use('default')"
   ]
  },
  {
   "cell_type": "code",
   "execution_count": 53,
   "id": "c3a65a14",
   "metadata": {},
   "outputs": [],
   "source": [
    "sim_time=6000\n",
    "time_step_calc = 0.2\n",
    "n_iter = sim_time/time_step_calc\n",
    "step_time_out = 10/time_step_calc #out every step for now\n",
    "time = np.linspace(start=0, stop= n_iter*time_step_calc - step_time_out*time_step_calc, num= (int) (n_iter/step_time_out)-1)"
   ]
  },
  {
   "cell_type": "code",
   "execution_count": 54,
   "id": "16519d2f",
   "metadata": {},
   "outputs": [
    {
     "name": "stdout",
     "output_type": "stream",
     "text": [
      "[   0.           10.01672241   20.03344482   30.05016722   40.06688963\n",
      "   50.08361204   60.10033445   70.11705686   80.13377926   90.15050167\n",
      "  100.16722408  110.18394649  120.2006689   130.2173913   140.23411371\n",
      "  150.25083612  160.26755853  170.28428094  180.30100334  190.31772575\n",
      "  200.33444816  210.35117057  220.36789298  230.38461538  240.40133779\n",
      "  250.4180602   260.43478261  270.45150502  280.46822742  290.48494983\n",
      "  300.50167224  310.51839465  320.53511706  330.55183946  340.56856187\n",
      "  350.58528428  360.60200669  370.6187291   380.63545151  390.65217391\n",
      "  400.66889632  410.68561873  420.70234114  430.71906355  440.73578595\n",
      "  450.75250836  460.76923077  470.78595318  480.80267559  490.81939799\n",
      "  500.8361204   510.85284281  520.86956522  530.88628763  540.90301003\n",
      "  550.91973244  560.93645485  570.95317726  580.96989967  590.98662207\n",
      "  601.00334448  611.02006689  621.0367893   631.05351171  641.07023411\n",
      "  651.08695652  661.10367893  671.12040134  681.13712375  691.15384615\n",
      "  701.17056856  711.18729097  721.20401338  731.22073579  741.23745819\n",
      "  751.2541806   761.27090301  771.28762542  781.30434783  791.32107023\n",
      "  801.33779264  811.35451505  821.37123746  831.38795987  841.40468227\n",
      "  851.42140468  861.43812709  871.4548495   881.47157191  891.48829431\n",
      "  901.50501672  911.52173913  921.53846154  931.55518395  941.57190635\n",
      "  951.58862876  961.60535117  971.62207358  981.63879599  991.65551839\n",
      " 1001.6722408  1011.68896321 1021.70568562 1031.72240803 1041.73913043\n",
      " 1051.75585284 1061.77257525 1071.78929766 1081.80602007 1091.82274247\n",
      " 1101.83946488 1111.85618729 1121.8729097  1131.88963211 1141.90635452\n",
      " 1151.92307692 1161.93979933 1171.95652174 1181.97324415 1191.98996656\n",
      " 1202.00668896 1212.02341137 1222.04013378 1232.05685619 1242.0735786\n",
      " 1252.090301   1262.10702341 1272.12374582 1282.14046823 1292.15719064\n",
      " 1302.17391304 1312.19063545 1322.20735786 1332.22408027 1342.24080268\n",
      " 1352.25752508 1362.27424749 1372.2909699  1382.30769231 1392.32441472\n",
      " 1402.34113712 1412.35785953 1422.37458194 1432.39130435 1442.40802676\n",
      " 1452.42474916 1462.44147157 1472.45819398 1482.47491639 1492.4916388\n",
      " 1502.5083612  1512.52508361 1522.54180602 1532.55852843 1542.57525084\n",
      " 1552.59197324 1562.60869565 1572.62541806 1582.64214047 1592.65886288\n",
      " 1602.67558528 1612.69230769 1622.7090301  1632.72575251 1642.74247492\n",
      " 1652.75919732 1662.77591973 1672.79264214 1682.80936455 1692.82608696\n",
      " 1702.84280936 1712.85953177 1722.87625418 1732.89297659 1742.909699\n",
      " 1752.9264214  1762.94314381 1772.95986622 1782.97658863 1792.99331104\n",
      " 1803.01003344 1813.02675585 1823.04347826 1833.06020067 1843.07692308\n",
      " 1853.09364548 1863.11036789 1873.1270903  1883.14381271 1893.16053512\n",
      " 1903.17725753 1913.19397993 1923.21070234 1933.22742475 1943.24414716\n",
      " 1953.26086957 1963.27759197 1973.29431438 1983.31103679 1993.3277592\n",
      " 2003.34448161 2013.36120401 2023.37792642 2033.39464883 2043.41137124\n",
      " 2053.42809365 2063.44481605 2073.46153846 2083.47826087 2093.49498328\n",
      " 2103.51170569 2113.52842809 2123.5451505  2133.56187291 2143.57859532\n",
      " 2153.59531773 2163.61204013 2173.62876254 2183.64548495 2193.66220736\n",
      " 2203.67892977 2213.69565217 2223.71237458 2233.72909699 2243.7458194\n",
      " 2253.76254181 2263.77926421 2273.79598662 2283.81270903 2293.82943144\n",
      " 2303.84615385 2313.86287625 2323.87959866 2333.89632107 2343.91304348\n",
      " 2353.92976589 2363.94648829 2373.9632107  2383.97993311 2393.99665552\n",
      " 2404.01337793 2414.03010033 2424.04682274 2434.06354515 2444.08026756\n",
      " 2454.09698997 2464.11371237 2474.13043478 2484.14715719 2494.1638796\n",
      " 2504.18060201 2514.19732441 2524.21404682 2534.23076923 2544.24749164\n",
      " 2554.26421405 2564.28093645 2574.29765886 2584.31438127 2594.33110368\n",
      " 2604.34782609 2614.36454849 2624.3812709  2634.39799331 2644.41471572\n",
      " 2654.43143813 2664.44816054 2674.46488294 2684.48160535 2694.49832776\n",
      " 2704.51505017 2714.53177258 2724.54849498 2734.56521739 2744.5819398\n",
      " 2754.59866221 2764.61538462 2774.63210702 2784.64882943 2794.66555184\n",
      " 2804.68227425 2814.69899666 2824.71571906 2834.73244147 2844.74916388\n",
      " 2854.76588629 2864.7826087  2874.7993311  2884.81605351 2894.83277592\n",
      " 2904.84949833 2914.86622074 2924.88294314 2934.89966555 2944.91638796\n",
      " 2954.93311037 2964.94983278 2974.96655518 2984.98327759 2995.\n",
      " 3005.01672241 3015.03344482 3025.05016722 3035.06688963 3045.08361204\n",
      " 3055.10033445 3065.11705686 3075.13377926 3085.15050167 3095.16722408\n",
      " 3105.18394649 3115.2006689  3125.2173913  3135.23411371 3145.25083612\n",
      " 3155.26755853 3165.28428094 3175.30100334 3185.31772575 3195.33444816\n",
      " 3205.35117057 3215.36789298 3225.38461538 3235.40133779 3245.4180602\n",
      " 3255.43478261 3265.45150502 3275.46822742 3285.48494983 3295.50167224\n",
      " 3305.51839465 3315.53511706 3325.55183946 3335.56856187 3345.58528428\n",
      " 3355.60200669 3365.6187291  3375.63545151 3385.65217391 3395.66889632\n",
      " 3405.68561873 3415.70234114 3425.71906355 3435.73578595 3445.75250836\n",
      " 3455.76923077 3465.78595318 3475.80267559 3485.81939799 3495.8361204\n",
      " 3505.85284281 3515.86956522 3525.88628763 3535.90301003 3545.91973244\n",
      " 3555.93645485 3565.95317726 3575.96989967 3585.98662207 3596.00334448\n",
      " 3606.02006689 3616.0367893  3626.05351171 3636.07023411 3646.08695652\n",
      " 3656.10367893 3666.12040134 3676.13712375 3686.15384615 3696.17056856\n",
      " 3706.18729097 3716.20401338 3726.22073579 3736.23745819 3746.2541806\n",
      " 3756.27090301 3766.28762542 3776.30434783 3786.32107023 3796.33779264\n",
      " 3806.35451505 3816.37123746 3826.38795987 3836.40468227 3846.42140468\n",
      " 3856.43812709 3866.4548495  3876.47157191 3886.48829431 3896.50501672\n",
      " 3906.52173913 3916.53846154 3926.55518395 3936.57190635 3946.58862876\n",
      " 3956.60535117 3966.62207358 3976.63879599 3986.65551839 3996.6722408\n",
      " 4006.68896321 4016.70568562 4026.72240803 4036.73913043 4046.75585284\n",
      " 4056.77257525 4066.78929766 4076.80602007 4086.82274247 4096.83946488\n",
      " 4106.85618729 4116.8729097  4126.88963211 4136.90635452 4146.92307692\n",
      " 4156.93979933 4166.95652174 4176.97324415 4186.98996656 4197.00668896\n",
      " 4207.02341137 4217.04013378 4227.05685619 4237.0735786  4247.090301\n",
      " 4257.10702341 4267.12374582 4277.14046823 4287.15719064 4297.17391304\n",
      " 4307.19063545 4317.20735786 4327.22408027 4337.24080268 4347.25752508\n",
      " 4357.27424749 4367.2909699  4377.30769231 4387.32441472 4397.34113712\n",
      " 4407.35785953 4417.37458194 4427.39130435 4437.40802676 4447.42474916\n",
      " 4457.44147157 4467.45819398 4477.47491639 4487.4916388  4497.5083612\n",
      " 4507.52508361 4517.54180602 4527.55852843 4537.57525084 4547.59197324\n",
      " 4557.60869565 4567.62541806 4577.64214047 4587.65886288 4597.67558528\n",
      " 4607.69230769 4617.7090301  4627.72575251 4637.74247492 4647.75919732\n",
      " 4657.77591973 4667.79264214 4677.80936455 4687.82608696 4697.84280936\n",
      " 4707.85953177 4717.87625418 4727.89297659 4737.909699   4747.9264214\n",
      " 4757.94314381 4767.95986622 4777.97658863 4787.99331104 4798.01003344\n",
      " 4808.02675585 4818.04347826 4828.06020067 4838.07692308 4848.09364548\n",
      " 4858.11036789 4868.1270903  4878.14381271 4888.16053512 4898.17725753\n",
      " 4908.19397993 4918.21070234 4928.22742475 4938.24414716 4948.26086957\n",
      " 4958.27759197 4968.29431438 4978.31103679 4988.3277592  4998.34448161\n",
      " 5008.36120401 5018.37792642 5028.39464883 5038.41137124 5048.42809365\n",
      " 5058.44481605 5068.46153846 5078.47826087 5088.49498328 5098.51170569\n",
      " 5108.52842809 5118.5451505  5128.56187291 5138.57859532 5148.59531773\n",
      " 5158.61204013 5168.62876254 5178.64548495 5188.66220736 5198.67892977\n",
      " 5208.69565217 5218.71237458 5228.72909699 5238.7458194  5248.76254181\n",
      " 5258.77926421 5268.79598662 5278.81270903 5288.82943144 5298.84615385\n",
      " 5308.86287625 5318.87959866 5328.89632107 5338.91304348 5348.92976589\n",
      " 5358.94648829 5368.9632107  5378.97993311 5388.99665552 5399.01337793\n",
      " 5409.03010033 5419.04682274 5429.06354515 5439.08026756 5449.09698997\n",
      " 5459.11371237 5469.13043478 5479.14715719 5489.1638796  5499.18060201\n",
      " 5509.19732441 5519.21404682 5529.23076923 5539.24749164 5549.26421405\n",
      " 5559.28093645 5569.29765886 5579.31438127 5589.33110368 5599.34782609\n",
      " 5609.36454849 5619.3812709  5629.39799331 5639.41471572 5649.43143813\n",
      " 5659.44816054 5669.46488294 5679.48160535 5689.49832776 5699.51505017\n",
      " 5709.53177258 5719.54849498 5729.56521739 5739.5819398  5749.59866221\n",
      " 5759.61538462 5769.63210702 5779.64882943 5789.66555184 5799.68227425\n",
      " 5809.69899666 5819.71571906 5829.73244147 5839.74916388 5849.76588629\n",
      " 5859.7826087  5869.7993311  5879.81605351 5889.83277592 5899.84949833\n",
      " 5909.86622074 5919.88294314 5929.89966555 5939.91638796 5949.93311037\n",
      " 5959.94983278 5969.96655518 5979.98327759 5990.        ]\n"
     ]
    }
   ],
   "source": [
    "print(time)"
   ]
  },
  {
   "cell_type": "code",
   "execution_count": 4,
   "id": "485bdd46",
   "metadata": {
    "collapsed": true,
    "jupyter": {
     "outputs_hidden": true,
     "source_hidden": true
    },
    "tags": []
   },
   "outputs": [
    {
     "ename": "OSError",
     "evalue": "/Users/kevinhbhimani/Desktop/siggen_ccd/waveforms/5000.00_keV/grid_0.0200/self_repulsion_1/P42575A/q=-0.10/signal_r=15.00_phi=0.00_z=0.10.txt not found.",
     "output_type": "error",
     "traceback": [
      "\u001b[0;31m---------------------------------------------------------------------------\u001b[0m",
      "\u001b[0;31mOSError\u001b[0m                                   Traceback (most recent call last)",
      "\u001b[0;32m/tmp/ipykernel_433124/1598675584.py\u001b[0m in \u001b[0;36m<module>\u001b[0;34m\u001b[0m\n\u001b[0;32m----> 1\u001b[0;31m \u001b[0mqnop5_data_r15\u001b[0m\u001b[0;34m=\u001b[0m \u001b[0mnp\u001b[0m\u001b[0;34m.\u001b[0m\u001b[0mloadtxt\u001b[0m\u001b[0;34m(\u001b[0m\u001b[0;34m'/Users/kevinhbhimani/Desktop/siggen_ccd/waveforms/5000.00_keV/grid_0.0200/self_repulsion_1/P42575A/q=-0.10/signal_r=15.00_phi=0.00_z=0.10.txt'\u001b[0m\u001b[0;34m)\u001b[0m\u001b[0;34m\u001b[0m\u001b[0;34m\u001b[0m\u001b[0m\n\u001b[0m",
      "\u001b[0;32m~/.local/lib/python3.9/site-packages/numpy/lib/npyio.py\u001b[0m in \u001b[0;36mloadtxt\u001b[0;34m(fname, dtype, comments, delimiter, converters, skiprows, usecols, unpack, ndmin, encoding, max_rows, like)\u001b[0m\n\u001b[1;32m   1063\u001b[0m             \u001b[0mfname\u001b[0m \u001b[0;34m=\u001b[0m \u001b[0mos_fspath\u001b[0m\u001b[0;34m(\u001b[0m\u001b[0mfname\u001b[0m\u001b[0;34m)\u001b[0m\u001b[0;34m\u001b[0m\u001b[0;34m\u001b[0m\u001b[0m\n\u001b[1;32m   1064\u001b[0m         \u001b[0;32mif\u001b[0m \u001b[0m_is_string_like\u001b[0m\u001b[0;34m(\u001b[0m\u001b[0mfname\u001b[0m\u001b[0;34m)\u001b[0m\u001b[0;34m:\u001b[0m\u001b[0;34m\u001b[0m\u001b[0;34m\u001b[0m\u001b[0m\n\u001b[0;32m-> 1065\u001b[0;31m             \u001b[0mfh\u001b[0m \u001b[0;34m=\u001b[0m \u001b[0mnp\u001b[0m\u001b[0;34m.\u001b[0m\u001b[0mlib\u001b[0m\u001b[0;34m.\u001b[0m\u001b[0m_datasource\u001b[0m\u001b[0;34m.\u001b[0m\u001b[0mopen\u001b[0m\u001b[0;34m(\u001b[0m\u001b[0mfname\u001b[0m\u001b[0;34m,\u001b[0m \u001b[0;34m'rt'\u001b[0m\u001b[0;34m,\u001b[0m \u001b[0mencoding\u001b[0m\u001b[0;34m=\u001b[0m\u001b[0mencoding\u001b[0m\u001b[0;34m)\u001b[0m\u001b[0;34m\u001b[0m\u001b[0;34m\u001b[0m\u001b[0m\n\u001b[0m\u001b[1;32m   1066\u001b[0m             \u001b[0mfencoding\u001b[0m \u001b[0;34m=\u001b[0m \u001b[0mgetattr\u001b[0m\u001b[0;34m(\u001b[0m\u001b[0mfh\u001b[0m\u001b[0;34m,\u001b[0m \u001b[0;34m'encoding'\u001b[0m\u001b[0;34m,\u001b[0m \u001b[0;34m'latin1'\u001b[0m\u001b[0;34m)\u001b[0m\u001b[0;34m\u001b[0m\u001b[0;34m\u001b[0m\u001b[0m\n\u001b[1;32m   1067\u001b[0m             \u001b[0mfh\u001b[0m \u001b[0;34m=\u001b[0m \u001b[0miter\u001b[0m\u001b[0;34m(\u001b[0m\u001b[0mfh\u001b[0m\u001b[0;34m)\u001b[0m\u001b[0;34m\u001b[0m\u001b[0;34m\u001b[0m\u001b[0m\n",
      "\u001b[0;32m~/.local/lib/python3.9/site-packages/numpy/lib/_datasource.py\u001b[0m in \u001b[0;36mopen\u001b[0;34m(path, mode, destpath, encoding, newline)\u001b[0m\n\u001b[1;32m    192\u001b[0m \u001b[0;34m\u001b[0m\u001b[0m\n\u001b[1;32m    193\u001b[0m     \u001b[0mds\u001b[0m \u001b[0;34m=\u001b[0m \u001b[0mDataSource\u001b[0m\u001b[0;34m(\u001b[0m\u001b[0mdestpath\u001b[0m\u001b[0;34m)\u001b[0m\u001b[0;34m\u001b[0m\u001b[0;34m\u001b[0m\u001b[0m\n\u001b[0;32m--> 194\u001b[0;31m     \u001b[0;32mreturn\u001b[0m \u001b[0mds\u001b[0m\u001b[0;34m.\u001b[0m\u001b[0mopen\u001b[0m\u001b[0;34m(\u001b[0m\u001b[0mpath\u001b[0m\u001b[0;34m,\u001b[0m \u001b[0mmode\u001b[0m\u001b[0;34m,\u001b[0m \u001b[0mencoding\u001b[0m\u001b[0;34m=\u001b[0m\u001b[0mencoding\u001b[0m\u001b[0;34m,\u001b[0m \u001b[0mnewline\u001b[0m\u001b[0;34m=\u001b[0m\u001b[0mnewline\u001b[0m\u001b[0;34m)\u001b[0m\u001b[0;34m\u001b[0m\u001b[0;34m\u001b[0m\u001b[0m\n\u001b[0m\u001b[1;32m    195\u001b[0m \u001b[0;34m\u001b[0m\u001b[0m\n\u001b[1;32m    196\u001b[0m \u001b[0;34m\u001b[0m\u001b[0m\n",
      "\u001b[0;32m~/.local/lib/python3.9/site-packages/numpy/lib/_datasource.py\u001b[0m in \u001b[0;36mopen\u001b[0;34m(self, path, mode, encoding, newline)\u001b[0m\n\u001b[1;32m    529\u001b[0m                                       encoding=encoding, newline=newline)\n\u001b[1;32m    530\u001b[0m         \u001b[0;32melse\u001b[0m\u001b[0;34m:\u001b[0m\u001b[0;34m\u001b[0m\u001b[0;34m\u001b[0m\u001b[0m\n\u001b[0;32m--> 531\u001b[0;31m             \u001b[0;32mraise\u001b[0m \u001b[0mIOError\u001b[0m\u001b[0;34m(\u001b[0m\u001b[0;34m\"%s not found.\"\u001b[0m \u001b[0;34m%\u001b[0m \u001b[0mpath\u001b[0m\u001b[0;34m)\u001b[0m\u001b[0;34m\u001b[0m\u001b[0;34m\u001b[0m\u001b[0m\n\u001b[0m\u001b[1;32m    532\u001b[0m \u001b[0;34m\u001b[0m\u001b[0m\n\u001b[1;32m    533\u001b[0m \u001b[0;34m\u001b[0m\u001b[0m\n",
      "\u001b[0;31mOSError\u001b[0m: /Users/kevinhbhimani/Desktop/siggen_ccd/waveforms/5000.00_keV/grid_0.0200/self_repulsion_1/P42575A/q=-0.10/signal_r=15.00_phi=0.00_z=0.10.txt not found."
     ]
    }
   ],
   "source": [
    "# qnop5_data_r15= np.loadtxt('/Users/kevinhbhimani/Desktop/siggen_ccd/waveforms/5000.00_keV/grid_0.0200/self_repulsion_1/P42575A/q=-0.10/signal_r=15.00_phi=0.00_z=0.10.txt')\n"
   ]
  },
  {
   "cell_type": "code",
   "execution_count": 5,
   "id": "d3e5668a",
   "metadata": {
    "jupyter": {
     "source_hidden": true
    },
    "tags": []
   },
   "outputs": [],
   "source": [
    "# index_cut = (int)((time_step_calc*n_iter)/step_time_out)\n",
    "\n",
    "# q0_data_old_r15 = np.loadtxt('/Users/kevinhbhimani/Desktop/siggen_sims/CPU_version/icpc_siggen/Signals/2D_comparision/test/signal_r=15.00_phi=0.00_z=0.10.txt')\n",
    "\n",
    "# n_iter = 4000\n",
    "# time_step_calc = 0.2\n",
    "# step_time_out = 10\n",
    "\n",
    "# time_old = np.linspace(start=0, stop=n_iter-1, num=n_iter)\n",
    "# index_cut = (int)((time_step_calc*n_iter)/step_time_out)\n"
   ]
  },
  {
   "cell_type": "code",
   "execution_count": 7,
   "id": "f5214b08",
   "metadata": {
    "jupyter": {
     "source_hidden": true
    },
    "tags": []
   },
   "outputs": [],
   "source": [
    "# print(len(q0_data_old_r15))\n",
    "# print(time_old)"
   ]
  },
  {
   "cell_type": "code",
   "execution_count": 9,
   "id": "a35af447",
   "metadata": {
    "jupyter": {
     "source_hidden": true
    },
    "tags": []
   },
   "outputs": [],
   "source": [
    "# plt.plot(time[0:len(time)-1], qnop5_data_r15[1:],'-',markersize=2,color='tab:red')\n",
    "# plt.plot(time_old[0:len(q0_data_old_r15)][time_old<980], q0_data_old_r15[0:len(q0_data_old_r15)][time_old<980],'-',markersize=2,color='tab:blue')\n",
    "\n",
    "# plt.title('Simulated signal at $r=15, z=0.10$,Surface charge=-0.1\\n surface drift=0.01 bulk, Energy=5000 keV')\n",
    "# plt.xlabel('Time (ns)')\n",
    "# plt.ylabel('Fraction of charge collected')\n",
    "# plt.legend(['EH Drift Sim', 'Siggen Sim'])\n",
    "# #plt.savefig('/Users/kevinhbhimani/Desktop/Thesis_proposal_figs/sims_comp.png')\n",
    "\n",
    "# plt.show()"
   ]
  },
  {
   "cell_type": "code",
   "execution_count": 11,
   "id": "303fb58a",
   "metadata": {
    "jupyter": {
     "source_hidden": true
    },
    "tags": []
   },
   "outputs": [],
   "source": [
    "# q0_data_r15= np.loadtxt('/Users/kevinhbhimani/Desktop/siggen_sims/siggen_ccd_ll/waveforms/5000.00_keV/grid_0.0200/self_repulsion_1/P42575A/q=0.00/signal_r=15.00_phi=0.00_z=0.10.txt')\n",
    "# q0_data_old_r15 = np.loadtxt('/Users/kevinhbhimani/desktop/siggen_sims/CPU_version/icpc_siggen/Signals/2D_comparision/q=0/signal_r=15.0_phi=0.0_z=0.1.txt')\n",
    "# assert len(q0_data_r15)==len(time),\"lengths do not match up\"\n",
    "# # assert len(q0_data_old_r15)==len(time),\"lengths do not match up\""
   ]
  },
  {
   "cell_type": "code",
   "execution_count": null,
   "id": "63508790",
   "metadata": {},
   "outputs": [],
   "source": []
  },
  {
   "cell_type": "code",
   "execution_count": 12,
   "id": "e8ef2f43",
   "metadata": {
    "collapsed": true,
    "jupyter": {
     "outputs_hidden": true,
     "source_hidden": true
    },
    "tags": []
   },
   "outputs": [
    {
     "ename": "NameError",
     "evalue": "name 'q0_data_old_r15' is not defined",
     "output_type": "error",
     "traceback": [
      "\u001b[0;31m---------------------------------------------------------------------------\u001b[0m",
      "\u001b[0;31mNameError\u001b[0m                                 Traceback (most recent call last)",
      "\u001b[0;32m/tmp/ipykernel_433124/2470069942.py\u001b[0m in \u001b[0;36m<module>\u001b[0;34m\u001b[0m\n\u001b[1;32m      4\u001b[0m \u001b[0;31m# plt.plot(time[(time>time_cut_lb) & (time<time_cut_ub)],q0_data_r15[(time>time_cut_lb) & (time<time_cut_ub)],'-',markersize=2,color='tab:red')\u001b[0m\u001b[0;34m\u001b[0m\u001b[0;34m\u001b[0m\u001b[0m\n\u001b[1;32m      5\u001b[0m \u001b[0;34m\u001b[0m\u001b[0m\n\u001b[0;32m----> 6\u001b[0;31m \u001b[0mplt\u001b[0m\u001b[0;34m.\u001b[0m\u001b[0mplot\u001b[0m\u001b[0;34m(\u001b[0m\u001b[0mtime\u001b[0m\u001b[0;34m[\u001b[0m\u001b[0;36m0\u001b[0m\u001b[0;34m:\u001b[0m\u001b[0mlen\u001b[0m\u001b[0;34m(\u001b[0m\u001b[0mq0_data_old_r15\u001b[0m\u001b[0;34m)\u001b[0m\u001b[0;34m]\u001b[0m\u001b[0;34m,\u001b[0m\u001b[0mq0_data_old_r15\u001b[0m\u001b[0;34m[\u001b[0m\u001b[0;36m0\u001b[0m\u001b[0;34m:\u001b[0m\u001b[0mlen\u001b[0m\u001b[0;34m(\u001b[0m\u001b[0mq0_data_old_r15\u001b[0m\u001b[0;34m)\u001b[0m\u001b[0;34m]\u001b[0m\u001b[0;34m,\u001b[0m\u001b[0;34m'-'\u001b[0m\u001b[0;34m,\u001b[0m\u001b[0mmarkersize\u001b[0m\u001b[0;34m=\u001b[0m\u001b[0;36m2\u001b[0m\u001b[0;34m,\u001b[0m\u001b[0mcolor\u001b[0m\u001b[0;34m=\u001b[0m\u001b[0;34m'tab:blue'\u001b[0m\u001b[0;34m)\u001b[0m\u001b[0;34m\u001b[0m\u001b[0;34m\u001b[0m\u001b[0m\n\u001b[0m\u001b[1;32m      7\u001b[0m \u001b[0mplt\u001b[0m\u001b[0;34m.\u001b[0m\u001b[0mplot\u001b[0m\u001b[0;34m(\u001b[0m\u001b[0mtime\u001b[0m\u001b[0;34m[\u001b[0m\u001b[0;36m0\u001b[0m\u001b[0;34m:\u001b[0m\u001b[0mlen\u001b[0m\u001b[0;34m(\u001b[0m\u001b[0mq0_data_old_r15\u001b[0m\u001b[0;34m)\u001b[0m\u001b[0;34m]\u001b[0m\u001b[0;34m,\u001b[0m\u001b[0mq0_data_r15\u001b[0m\u001b[0;34m[\u001b[0m\u001b[0;36m0\u001b[0m\u001b[0;34m:\u001b[0m\u001b[0mlen\u001b[0m\u001b[0;34m(\u001b[0m\u001b[0mq0_data_old_r15\u001b[0m\u001b[0;34m)\u001b[0m\u001b[0;34m]\u001b[0m\u001b[0;34m,\u001b[0m\u001b[0;34m'-'\u001b[0m\u001b[0;34m,\u001b[0m\u001b[0mmarkersize\u001b[0m\u001b[0;34m=\u001b[0m\u001b[0;36m2\u001b[0m\u001b[0;34m,\u001b[0m\u001b[0mcolor\u001b[0m\u001b[0;34m=\u001b[0m\u001b[0;34m'tab:red'\u001b[0m\u001b[0;34m)\u001b[0m\u001b[0;34m\u001b[0m\u001b[0;34m\u001b[0m\u001b[0m\n\u001b[1;32m      8\u001b[0m \u001b[0;34m\u001b[0m\u001b[0m\n",
      "\u001b[0;31mNameError\u001b[0m: name 'q0_data_old_r15' is not defined"
     ]
    }
   ],
   "source": [
    "# time_cut_lb = 500\n",
    "# time_cut_ub = 800\n",
    "# plt.plot(time[(time>time_cut_lb) & (time<time_cut_ub)],q0_data_old_r15[(time>time_cut_lb) & (time<time_cut_ub)],'-',markersize=2,color='tab:blue')\n",
    "# plt.plot(time[(time>time_cut_lb) & (time<time_cut_ub)],q0_data_r15[(time>time_cut_lb) & (time<time_cut_ub)],'-',markersize=2,color='tab:red')\n",
    "\n",
    "plt.plot(time[0:len(q0_data_old_r15)],q0_data_old_r15[0:len(q0_data_old_r15)],'-',markersize=2,color='tab:blue')\n",
    "plt.plot(time[0:len(q0_data_old_r15)],q0_data_r15[0:len(q0_data_old_r15)],'-',markersize=2,color='tab:red')\n",
    "\n",
    "#plt.axvline(drift_time_50(np_data,time), color='r', linestyle='dashed', linewidth=1)\n",
    "#plt.axvline(drift_time_50(data_old,time), color='b', linestyle='dashed', linewidth=1)\n",
    "\n",
    "\n",
    "plt.title('Simulated signal at $r=15, \\\\rho=0, z=0.1$')\n",
    "plt.xlabel('Time (ns)')\n",
    "plt.ylabel('Fraction of charge collected')\n",
    "plt.legend(['Siggen Sim', 'EH Drift Sim'])\n",
    "#plt.savefig('/Users/kevinhbhimani/Desktop/Thesis_proposal_figs/sims_comp.png')\n",
    "\n",
    "plt.show()"
   ]
  },
  {
   "cell_type": "code",
   "execution_count": 56,
   "id": "bac66435",
   "metadata": {},
   "outputs": [
    {
     "name": "stderr",
     "output_type": "stream",
     "text": [
      "100%|██████████| 1/1 [00:00<00:00,  7.50it/s]\n"
     ]
    }
   ],
   "source": [
    "directory = '/nas/longleaf/home/kbhimani/siggen_ccd/waveforms'\n",
    "\n",
    "energy=np.array([])\n",
    "grid=np.array([])\n",
    "sr=np.array([])\n",
    "detector=np.array([])\n",
    "surface_charge=np.array([])\n",
    "radius=np.array([])\n",
    "height=np.array([])\n",
    "phi=np.array([])\n",
    "charge_data = np.empty((0,len(time)),dtype=float)\n",
    "for filename in tqdm(os.listdir(directory)):\n",
    "    if('_keV' in filename):\n",
    "        energy_val = filename.split(\"_\")[0]\n",
    "        for filename_g in (os.listdir(directory + '/' + filename)):\n",
    "            if('grid' in directory + '/' + filename_g):\n",
    "                grid_val = filename_g.split(\"_\")[1]\n",
    "                for filename_e in (os.listdir(directory + '/' + filename + '/' + filename_g)):\n",
    "                    if('self_repulsion' in filename_e):\n",
    "                        sr_val = filename_e.split(\"_\")[2]\n",
    "                        for filename_sr in (os.listdir(directory + '/' + filename + '/' + filename_g + '/' + filename_e)):\n",
    "                            if (filename_sr.startswith('.')) == False:\n",
    "                                det_val = filename_sr\n",
    "                                for filename_det in (os.listdir(directory + '/' + filename + '/' + filename_g + '/' + filename_e + '/' + filename_sr)):\n",
    "                                    if ('q=' in filename_det):\n",
    "                                        q_val = filename_det.split(\"=\")[1]\n",
    "                                        for filename_q in (os.listdir(directory+'/'+filename+'/'+ filename_g+'/'+filename_e+'/'+filename_sr+'/'+filename_det)):\n",
    "                                            if('signal_' in filename_q):\n",
    "                                                data = np.loadtxt(directory+'/'+filename+'/'+filename_g+'/'+filename_e+'/'+filename_sr+'/'+filename_det+'/'+ filename_q)\n",
    "                                                if(len(data)==len(time)):\n",
    "                                                    r_val = filename_q.split(\"_\")[1].split(\"=\")[1]\n",
    "                                                    phi_val = filename_q.split(\"_\")[2].split(\"=\")[1]\n",
    "                                                    z_temp = filename_q.split(\"_\")[3].split(\"=\")[1].split(\".\")\n",
    "                                                    z_val = z_temp[0]+\".\"+z_temp[1]\n",
    "                                                    energy = np.append(energy, float(energy_val))\n",
    "                                                    grid = np.append(grid,float(grid_val))\n",
    "                                                    radius = np.append(radius, float(r_val))\n",
    "                                                    height = np.append(height, float(z_val))\n",
    "                                                    phi = np.append(phi, float(phi_val))\n",
    "                                                    sr = np.append(sr, float(sr_val))\n",
    "                                                    surface_charge = np.append(surface_charge, float(q_val))\n",
    "                                                    charge_data = np.vstack([charge_data, data])"
   ]
  },
  {
   "cell_type": "code",
   "execution_count": 20,
   "id": "09d556d9",
   "metadata": {
    "collapsed": true,
    "jupyter": {
     "outputs_hidden": true
    },
    "tags": []
   },
   "outputs": [
    {
     "name": "stdout",
     "output_type": "stream",
     "text": [
      "[]\n"
     ]
    }
   ],
   "source": [
    "print(radius)"
   ]
  },
  {
   "cell_type": "code",
   "execution_count": 154,
   "id": "22220d97",
   "metadata": {},
   "outputs": [],
   "source": [
    "cut = (radius==15)&(sr==1)&(height==0.02)&(grid==0.0200)"
   ]
  },
  {
   "cell_type": "code",
   "execution_count": 155,
   "id": "5d70fb7f",
   "metadata": {},
   "outputs": [
    {
     "name": "stdout",
     "output_type": "stream",
     "text": [
      "[-0.5]\n"
     ]
    }
   ],
   "source": [
    "print(surface_charge[cut&(energy==2000)&(surface_charge==-0.5)])"
   ]
  },
  {
   "cell_type": "code",
   "execution_count": 157,
   "id": "5b089d89-765f-4a81-9167-d623fd39a0cd",
   "metadata": {},
   "outputs": [
    {
     "name": "stderr",
     "output_type": "stream",
     "text": [
      "100%|██████████████████████████████████████████████████████████████████████████████████████████████████████████████████████████████████████████████████████████████████| 319/319 [00:00<00:00, 11605.07it/s]\n"
     ]
    },
    {
     "data": {
      "image/png": "[encoded data removed]",
      "text/plain": [
       "<Figure size 640x480 with 1 Axes>"
      ]
     },
     "metadata": {},
     "output_type": "display_data"
    }
   ],
   "source": [
    "eng_sc_0=np.array([])\n",
    "plot_e_sc_0=np.array([])\n",
    "plot_e_sc_n0p5=np.array([])\n",
    "plot_e_sc_p0p5=np.array([])\n",
    "eng_sc_n0p5=np.array([])\n",
    "eng_sc_p0p5=np.array([])\n",
    "# surface_charge_vars=np.array([0 ,-0.5, 0.5])\n",
    "# for sc_var in tqdm(surface_charge_vars):\n",
    "\n",
    "\n",
    "    #                 plot_e_sc_n0p5=np.append(plot_e_sc_n0p5,charge_data[cut&(energy==eng)&(surface_charge==-0.5)][0][len(time)-1])\n",
    "        #         plot_e_sc_p0p5=np.append(plot_e_sc_p0p5,charge_data[cut&(energy==eng)&(surface_charge==0.5)][0][len(time)-1])\n",
    "index=0       \n",
    "for eng in tqdm(energy):\n",
    "        try:\n",
    "            plot_e_sc_0=np.append(plot_e_sc_0,charge_data[cut&(energy==eng)&(surface_charge==0)][0][len(time)-1])\n",
    "            eng_sc_0=np.append(eng_sc_0,eng)\n",
    "        except IndexError:\n",
    "            continue\n",
    "            try:\n",
    "                plot_e_sc_p0p5=np.append(plot_e_sc_p0p5,charge_data[cut&(energy==eng)&(surface_charge==0.5)][0][len(time)-1])\n",
    "                eng_sc_p0p5=np.append(eng_sc_p0p5,eng)\n",
    "            except IndexError:\n",
    "                continue\n",
    "        try:\n",
    "            plot_e_sc_n0p5=np.append(plot_e_sc_n0p5,charge_data[cut&(energy==eng)&(surface_charge==-0.5)][0][len(time)-1])\n",
    "            eng_sc_n0p5=np.append(eng_sc_n0p5,eng)\n",
    "        except IndexError:\n",
    "            continue\n",
    "plt.plot(eng_sc_0, plot_e_sc_0,'o',markersize=2, color='tab:green')\n",
    "plt.plot(eng_sc_n0p5, plot_e_sc_n0p5,'o',markersize=2, color='tab:purple')\n",
    "plt.plot(eng_sc_p0p5, plot_e_sc_p0p5,'o',markersize=2, color='tab:orange')\n",
    "\n",
    "plt.ylabel('Signal collected')\n",
    "plt.xlabel('Energy (keV)')\n",
    "plt.ylim(0,1)\n",
    "plt.legend(['surface charge=0', 'surface charge=-0.5'])\n",
    "plt.title('Fraction of charged collected, r=15 mm, z=0.02 mm, grid=0.02mm')\n",
    "plt.show()"
   ]
  },
  {
   "cell_type": "code",
   "execution_count": 159,
   "id": "9772b18d",
   "metadata": {
    "scrolled": true
   },
   "outputs": [
    {
     "name": "stderr",
     "output_type": "stream",
     "text": [
      "100%|███████████████████████████████████████████████████████████████████████████████████████████████████████████████████████████████████████████████████████████████████| 319/319 [00:00<00:00, 9402.02it/s]\n"
     ]
    },
    {
     "data": {
      "image/png": "[encoded data removed]",
      "text/plain": [
       "<Figure size 640x480 with 1 Axes>"
      ]
     },
     "metadata": {},
     "output_type": "display_data"
    }
   ],
   "source": [
    "z_sc0=np.array([])\n",
    "z_scp0p5=np.array([])\n",
    "z_scnop5=np.array([])\n",
    "plot_z_sco=np.array([])\n",
    "plot_z_scp0p5=np.array([])\n",
    "plot_z_scn0p5=np.array([])\n",
    "\n",
    "for z in tqdm(height):\n",
    "    cut = (radius==15.00)&(sr==1)&(height==z)&(grid==0.02)&(energy==5000.00)\n",
    "    try:\n",
    "        plot_z_sco=np.append(plot_z_sco,charge_data[cut&(surface_charge==0)][0][len(time)-1])\n",
    "        z_sc0=np.append(z_sc0,z)\n",
    "    except IndexError:\n",
    "        continue\n",
    "    try:\n",
    "        plot_z_scn0p5=np.append(plot_z_scn0p5,charge_data[cut&(surface_charge==-0.5)][0][len(time)-1])\n",
    "        z_scnop5=np.append(z_scnop5,z)\n",
    "    except IndexError:\n",
    "        continue\n",
    "    try:\n",
    "        plot_z_scp0p5=np.append(plot_z_scp0p5,charge_data[cut&(surface_charge==0.5)][0][len(time)-1])\n",
    "        z_scp0p5=np.append(z_scp0p5,z)\n",
    "    except IndexError:\n",
    "        continue\n",
    "\n",
    "\n",
    "\n",
    "plt.plot(z_sc0, plot_z_sco,'o',markersize=3, color=\"tab:green\")#could use color=plt.cm.jet(z/max(height))\n",
    "plt.plot(z_scnop5, plot_z_scn0p5,'o',markersize=3, color=\"tab:purple\")#could use color=plt.cm.jet(z/max(height))\n",
    "\n",
    "plt.ylabel('Charge signal')\n",
    "plt.xlabel('Height (mm)')\n",
    "plt.ylim(0,1)\n",
    "\n",
    "# plt.legend(['with self-repulsion', 'without self-repulsion'])\n",
    "plt.title('Fraction of charged collected radius=15mm, Energy=5000keV, grid=0.02mm')\n",
    "plt.legend(['surface charge=0', 'surface charge=-0.5'])\n",
    "plt.show()"
   ]
  },
  {
   "cell_type": "code",
   "execution_count": 160,
   "id": "30cefc7f",
   "metadata": {
    "scrolled": true
   },
   "outputs": [
    {
     "name": "stderr",
     "output_type": "stream",
     "text": [
      "100%|███████████████████████████████████████████████████████████████████████████████████████████████████████████████████████████████████████████████████████████████████| 319/319 [00:00<00:00, 9564.40it/s]\n"
     ]
    },
    {
     "data": {
      "image/png": "[encoded data removed]",
      "text/plain": [
       "<Figure size 640x480 with 1 Axes>"
      ]
     },
     "metadata": {},
     "output_type": "display_data"
    }
   ],
   "source": [
    "r_sc0=np.array([])\n",
    "r_scp0p5=np.array([])\n",
    "r_scn0p5=np.array([])\n",
    "plot_r_sco=np.array([])\n",
    "plot_r_scp0p5=np.array([])\n",
    "plot_r_scn0p5=np.array([])\n",
    "\n",
    "for r in tqdm(radius):\n",
    "    cut = (height==0.02)&(sr==1)&(radius==r)&(grid==0.02)&(energy==5000.00)\n",
    "    try:\n",
    "        plot_r_sco=np.append(plot_r_sco,charge_data[cut&(surface_charge==0)][0][len(time)-1])\n",
    "        r_sc0=np.append(r_sc0,r)\n",
    "    except IndexError:\n",
    "        continue\n",
    "    try:\n",
    "        plot_r_scn0p5=np.append(plot_r_scn0p5,charge_data[cut&(surface_charge==-0.50)][0][len(time)-1])\n",
    "        r_scn0p5=np.append(r_scn0p5,r)\n",
    "    except IndexError:\n",
    "        continue\n",
    "    try:\n",
    "        plot_r_scp0p5=np.append(plot_r_scp0p5,charge_data[cut&(surface_charge==0.50)][0][len(time)-1])\n",
    "        r_scp0p5=np.append(r_scp0p5,r)\n",
    "    except IndexError:\n",
    "        continue\n",
    "    \n",
    "    \n",
    "\n",
    "plt.plot(r_sc0, plot_r_sco,'o',markersize=3, color=\"tab:green\")\n",
    "plt.plot(r_scn0p5, plot_r_scn0p5,'o',markersize=3, color=\"tab:purple\")\n",
    "# plt.plot(r_scp0p5, plot_r_scp0p5,'o',markersize=5, color=\"tab:blue\")\n",
    "\n",
    "plt.ylabel('Charge signal')\n",
    "plt.xlabel('Radius (mm)')\n",
    "# plt.legend(['with self-repulsion', 'without self-repulsion'])\n",
    "plt.title('Fraction of charged collected, height=0.02mm, Energy=5000keV, grid=0.02mm')\n",
    "plt.legend(['surface charge=0', 'surface charge=-0.5'])\n",
    "\n",
    "plt.show()"
   ]
  },
  {
   "cell_type": "code",
   "execution_count": 109,
   "id": "621b51a1",
   "metadata": {},
   "outputs": [],
   "source": [
    "r_plot = np.array([])\n",
    "z_plot = np.array([])\n",
    "eng_plot = np.array([])\n",
    "eng_use = 5000"
   ]
  },
  {
   "cell_type": "code",
   "execution_count": 110,
   "id": "d7c86fd1",
   "metadata": {},
   "outputs": [
    {
     "name": "stderr",
     "output_type": "stream",
     "text": [
      "100%|██████████████████████████████████████████████████████████████████████████████████████████████████████████████████████████████████████████████████████████████████████| 25/25 [00:00<00:00, 876.92it/s]\n"
     ]
    }
   ],
   "source": [
    "for r in tqdm(radius[0::10]):\n",
    "    for z in height[0::10]:\n",
    "        cut = (height==z)&(sr==1)&(radius==r)&(grid==0.02)&(energy==eng_use)\n",
    "        try:\n",
    "            pick_off = charge_data[cut][0][len(time)-1]\n",
    "            r_plot = np.append(r_plot, r)\n",
    "            z_plot = np.append(z_plot, z)\n",
    "            eng_plot = np.append(eng_plot, pick_off)\n",
    "            #plt.plot(radius[cut], height[cut],'o', color=plt.cm.jet(pick_off))\n",
    "        except IndexError:\n",
    "#             print(\"Point skipped:(\", r,\",\", z,\")\")\n",
    "            continue"
   ]
  },
  {
   "cell_type": "code",
   "execution_count": 87,
   "id": "15c3e910",
   "metadata": {},
   "outputs": [
    {
     "ename": "ModuleNotFoundError",
     "evalue": "No module named 'pygama'",
     "output_type": "error",
     "traceback": [
      "\u001b[0;31m---------------------------------------------------------------------------\u001b[0m",
      "\u001b[0;31mModuleNotFoundError\u001b[0m                       Traceback (most recent call last)",
      "Cell \u001b[0;32mIn[87], line 1\u001b[0m\n\u001b[0;32m----> 1\u001b[0m \u001b[38;5;28;01mfrom\u001b[39;00m  \u001b[38;5;21;01mpygama\u001b[39;00m\u001b[38;5;21;01m.\u001b[39;00m\u001b[38;5;21;01mdsp\u001b[39;00m\u001b[38;5;21;01m.\u001b[39;00m\u001b[38;5;21;01mprocessors\u001b[39;00m\u001b[38;5;21;01m.\u001b[39;00m\u001b[38;5;21;01mtrap_filters\u001b[39;00m \u001b[38;5;28;01mimport\u001b[39;00m trap_filter\n\u001b[1;32m      2\u001b[0m \u001b[38;5;28;01mfrom\u001b[39;00m  \u001b[38;5;21;01mpygama\u001b[39;00m\u001b[38;5;21;01m.\u001b[39;00m\u001b[38;5;21;01mdsp\u001b[39;00m\u001b[38;5;21;01m.\u001b[39;00m\u001b[38;5;21;01mprocessors\u001b[39;00m\u001b[38;5;21;01m.\u001b[39;00m\u001b[38;5;21;01mtrap_filters\u001b[39;00m \u001b[38;5;28;01mimport\u001b[39;00m trap_norm\n\u001b[1;32m      4\u001b[0m sim_time\u001b[38;5;241m=\u001b[39m\u001b[38;5;241m11000\u001b[39m\n",
      "\u001b[0;31mModuleNotFoundError\u001b[0m: No module named 'pygama'"
     ]
    }
   ],
   "source": [
    "from  pygama.dsp.processors.trap_filters import trap_filter\n",
    "from  pygama.dsp.processors.trap_filters import trap_norm\n",
    "\n",
    "sim_time=11000\n",
    "time_step_calc = 0.2\n",
    "n_iter = sim_time/time_step_calc\n",
    "step_time_out = 1 #out every step for now\n",
    "time = np.linspace(start=0, stop= n_iter*time_step_calc - step_time_out*time_step_calc, num= (int) (n_iter/step_time_out))\n",
    "\n",
    "trap_in = np.loadtxt('/Users/kevinhbhimani/Desktop/siggen_ccd/waveforms/5000.00_keV/grid_0.0200/self_repulsion_1/P42575A/q=0.00/signal_r=15.00_phi=0.00_z=0.10.txt')\n",
    "assert len(trap_in) == len(time)\n",
    "\n",
    "plt.plot(time,trap_in)\n",
    "plt.ylabel('Charge signal')\n",
    "plt.xlabel('Time (ns)')\n",
    "# plt.legend(['with self-repulsion', 'without self-repulsion'])\n",
    "# plt.title('Max energy using SR - max energy without SR at radius=25.00')\n",
    "# plt.legend(['z=0.05','z=0.10','z=0.15','z=0.20','z=0.50','z=1.00','z=2.00','z=3.00','z=5.00','z=10.00'])\n",
    "\n",
    "# rise time of 4 us and a flat top of 2.5 us. We pick off the energy at 6 us from the start time\n",
    "# Parameters\n",
    "# w_in (ndarray) -- the input waveform.\n",
    "\n",
    "# rise (int) -- the number of samples averaged in the rise and fall sections.\n",
    "\n",
    "# flat (int) -- the delay between the rise and fall sections.\n",
    "\n",
    "# w_out (ndarray) -- the filtered waveform\n",
    "rise_time = 4000 #ns\n",
    "flat_top = 2500 #ns\n",
    "pickup = 6000 #ns\n",
    "trap_out = np.zeros(len(trap_in))\n",
    "trap_norm(trap_in, int(rise_time/time_step_calc), int(flat_top/time_step_calc), trap_out)\n",
    "\n",
    "plt.plot(time,trap_in)\n",
    "plt.plot(time,trap_out)\n",
    "plt.axvline(x=pickup, color='r')\n",
    "print(\"energy collected at pickup\", trap_out[(int)(pickup/time_step_calc)])\n",
    "plt.ylabel('Charge signal')\n",
    "plt.xlabel('Time (ns)')\n",
    "plt.legend(['Waveform','Trap out', 'pick off'])\n",
    "plt.title('Event with Energy = 5000 keV at $r=15.00$ mm, $r=0.10$ mm')"
   ]
  },
  {
   "cell_type": "code",
   "execution_count": null,
   "id": "5a4ddc65",
   "metadata": {},
   "outputs": [],
   "source": [
    "# index=0\n",
    "# for r in tqdm(range(0,len(z_plot))):\n",
    "#     plt.plot(r[index], z[index],'o', color=plt.cm.jet(eng_plot[index]))\n",
    "#     index = index + 1\n",
    "# plt.ylabel('Height (mm)')\n",
    "# plt.xlabel('Radius (mm)')\n",
    "# # plt.legend(['with self-repulsion', 'without self-repulsion'])\n",
    "# plt.title('Fraction of charged collected, Energy=50.00 keV')\n",
    "# plt.show()"
   ]
  },
  {
   "cell_type": "code",
   "execution_count": null,
   "id": "b4506d85",
   "metadata": {},
   "outputs": [],
   "source": [
    "plt.scatter(r_plot[0:len(z_plot)],z_plot, c=eng_plot, cmap='summer_r') #_r reverses the colormap\n",
    "plt.ylabel('Height (mm)')\n",
    "plt.xlabel('Radius (mm)')\n",
    "# plt.legend(['with self-repulsion', 'without self-repulsion'])\n",
    "plt.title(f'Fraction of charged collected, Energy={eng_use}keV')\n",
    "plt.colorbar()\n",
    "plt.show()"
   ]
  },
  {
   "cell_type": "code",
   "execution_count": null,
   "id": "a8e8949c",
   "metadata": {},
   "outputs": [],
   "source": [
    "r_use = 15\n",
    "eng_use = 5000\n",
    "for z in height:\n",
    "    cut = (height==z)&(sr==1)&(radius==r_use)&(grid==0.02)&(energy==eng_use)\n",
    "    pick_off = charge_data[cut][0][len(time)-1]\n",
    "    plt.plot(z, pick_off, 'o', color='tab:purple')\n",
    "plt.ylabel('Fraction of charge collected (mm)')\n",
    "plt.xlabel('Height (mm)')\n",
    "# plt.legend(['with self-repulsion', 'without self-repulsion'])\n",
    "plt.title(f'Fraction of charged collected, radius={r_use}, Energy={eng_use}keV')\n",
    "plt.show()"
   ]
  },
  {
   "cell_type": "code",
   "execution_count": null,
   "id": "2ae7e9aa",
   "metadata": {},
   "outputs": [],
   "source": [
    "z_use = 0.05\n",
    "eng_use = 800\n",
    "for r in radius:\n",
    "    try:\n",
    "        cut = (radius==r)&(sr==1)&(height==z_use)&(grid==0.02)&(energy==eng_use)\n",
    "        pick_off = charge_data[cut][0][len(time)-1]\n",
    "        plt.plot(r, pick_off, 'o', color='tab:green')\n",
    "    except IndexError:\n",
    "        continue\n",
    "plt.ylabel('Fraction of charge collected (mm)')\n",
    "plt.xlabel('Radius (mm)')\n",
    "# plt.legend(['with self-repulsion', 'without self-repulsion'])\n",
    "plt.title(f'Fraction of charged collected, height={z_use}, Energy={eng_use}keV')\n",
    "plt.show()"
   ]
  },
  {
   "cell_type": "code",
   "execution_count": null,
   "id": "50f7376f",
   "metadata": {},
   "outputs": [],
   "source": []
  }
 ],
 "metadata": {
  "kernelspec": {
   "display_name": "Python 3 (ipykernel)",
   "language": "python",
   "name": "python3"
  },
  "language_info": {
   "codemirror_mode": {
    "name": "ipython",
    "version": 3
   },
   "file_extension": ".py",
   "mimetype": "text/x-python",
   "name": "python",
   "nbconvert_exporter": "python",
   "pygments_lexer": "ipython3",
   "version": "3.9.7"
  }
 },
 "nbformat": 4,
 "nbformat_minor": 5
}
