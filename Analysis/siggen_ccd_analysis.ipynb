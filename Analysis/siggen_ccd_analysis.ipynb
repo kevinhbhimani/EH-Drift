{
 "cells": [
  {
   "cell_type": "code",
   "execution_count": 1,
   "id": "fbfe09f6",
   "metadata": {},
   "outputs": [
    {
     "name": "stderr",
     "output_type": "stream",
     "text": [
      "/var/folders/kf/hx5km7bs4hg_5ytlj6pnz_100000gn/T/ipykernel_14239/1930717304.py:13: DeprecationWarning: Importing display from IPython.core.display is deprecated since IPython 7.14, please import from IPython display\n",
      "  from IPython.core.display import display, HTML\n"
     ]
    },
    {
     "data": {
      "text/html": [
       "<style>.container { width:100% !important; }</style>"
      ],
      "text/plain": [
       "<IPython.core.display.HTML object>"
      ]
     },
     "metadata": {},
     "output_type": "display_data"
    }
   ],
   "source": [
    "import numpy as np\n",
    "import matplotlib.pyplot as plt\n",
    "plt.style.use('default')\n",
    "import matplotlib\n",
    "import pandas as pd\n",
    "import os\n",
    "import re\n",
    "from tqdm import tqdm\n",
    "\n",
    "color_array=np.linspace(0,1,11)\n",
    "cmap = plt.cm.tab20b\n",
    "\n",
    "from IPython.core.display import display, HTML\n",
    "display(HTML(\"<style>.container { width:100% !important; }</style>\")) #makes the notebook wider\n",
    "plt.style.use('default')"
   ]
  },
  {
   "cell_type": "code",
   "execution_count": 2,
   "id": "8f946732",
   "metadata": {},
   "outputs": [],
   "source": [
    "from  pygama.dsp.processors.trap_filters import trap_filter\n",
    "from  pygama.dsp.processors.trap_filters import trap_norm"
   ]
  },
  {
   "cell_type": "code",
   "execution_count": 3,
   "id": "035425b5",
   "metadata": {},
   "outputs": [],
   "source": [
    "#Adapted from LEGEND pygama software\n",
    "def trap(waveform, rampTime=150, flatTime=250, decayTime=0, baseline=0.):\n",
    "    \"\"\"\n",
    "    Apply a trap filter to a waveform.\n",
    "    \"\"\"\n",
    "    decayConstant = 0.\n",
    "    norm = rampTime\n",
    "    if decayTime != 0:\n",
    "        decayConstant = 1. / (np.exp(1. / decayTime) - 1)\n",
    "        norm *= decayConstant\n",
    "\n",
    "    trapOutput = np.zeros_like(waveform)\n",
    "    fVector = np.zeros_like(waveform)\n",
    "    scratch = np.zeros_like(waveform)\n",
    "    fVector[0] = waveform[0] - baseline\n",
    "    trapOutput[0] = (decayConstant + 1.) * (waveform[0] - baseline)\n",
    "\n",
    "    wf_minus_ramp = np.zeros_like(waveform)\n",
    "    wf_minus_ramp[:rampTime] = baseline\n",
    "    wf_minus_ramp[rampTime:] = waveform[:len(waveform) - rampTime]\n",
    "\n",
    "    wf_minus_ft_and_ramp = np.zeros_like(waveform)\n",
    "    wf_minus_ft_and_ramp[:(flatTime + rampTime)] = baseline\n",
    "    wf_minus_ft_and_ramp[(flatTime + rampTime):] = waveform[:len(waveform) - flatTime - rampTime]\n",
    "\n",
    "    wf_minus_ft_and_2ramp = np.zeros_like(waveform)\n",
    "    wf_minus_ft_and_2ramp[:(flatTime + 2 * rampTime)] = baseline\n",
    "    wf_minus_ft_and_2ramp[(flatTime + 2 * rampTime):] = waveform[:len(waveform) - flatTime -\n",
    "                                              2 * rampTime]\n",
    "\n",
    "    scratch = waveform - (wf_minus_ramp +\n",
    "                          wf_minus_ft_and_ramp - # NOTE: clint changed this to - after walter convinced him\n",
    "                          wf_minus_ft_and_2ramp)\n",
    "\n",
    "    if decayConstant != 0:\n",
    "        fVector = np.cumsum(fVector + scratch)\n",
    "        trapOutput = np.cumsum(trapOutput + fVector + decayConstant * scratch)\n",
    "    else:\n",
    "        trapOutput = np.cumsum(trapOutput + scratch)\n",
    "\n",
    "    # Normalize and resize output\n",
    "    tmp_hi = len(waveform) - (2 * rampTime + flatTime)\n",
    "    trapOutput[:tmp_hi] = trapOutput[2 * rampTime + flatTime:] / norm\n",
    "    trapOutput.resize((len(waveform) - (2 * rampTime + flatTime)))\n",
    "    return trapOutput"
   ]
  },
  {
   "cell_type": "code",
   "execution_count": 45,
   "id": "9fa9f7fe",
   "metadata": {},
   "outputs": [
    {
     "name": "stdout",
     "output_type": "stream",
     "text": [
      "[0.0000000e+00 1.9979995e-01 3.9959990e-01 ... 7.9860040e+02 7.9880020e+02\n",
      " 7.9900000e+02]\n"
     ]
    }
   ],
   "source": [
    "n_iter = 4000\n",
    "time_step_calc = 0.2\n",
    "step_time_out = 1\n",
    "time = np.linspace(start=0, stop= int (n_iter*time_step_calc - step_time_out*time_step_calc ), num= (int) (n_iter/step_time_out))\n",
    "print(time)"
   ]
  },
  {
   "cell_type": "code",
   "execution_count": 60,
   "id": "236a230a",
   "metadata": {},
   "outputs": [
    {
     "name": "stdout",
     "output_type": "stream",
     "text": [
      "[0.00000000e+00 1.99959998e-01 3.99919996e-01 ... 3.99860008e+03\n",
      " 3.99880004e+03 3.99900000e+03]\n"
     ]
    }
   ],
   "source": [
    "n_iter = 4000/0.2\n",
    "time_step_calc = 0.2\n",
    "step_time_out = 1\n",
    "time = np.linspace(start=0, stop= int (n_iter*time_step_calc - step_time_out*time_step_calc ), num= (int) (n_iter/step_time_out))\n",
    "print(time)"
   ]
  },
  {
   "cell_type": "code",
   "execution_count": 6,
   "id": "4c6f0bc3",
   "metadata": {},
   "outputs": [
    {
     "name": "stdout",
     "output_type": "stream",
     "text": [
      "20000\n"
     ]
    }
   ],
   "source": [
    "trap_in = np.loadtxt('/Users/kevinhbhimani/Desktop/siggen_sims/GPU_work/siggen_ccd/waveforms/800.00_keV/grid_0.0200/self_repulsion_1/P42575A/q=0.00/signal_r=20.00_phi=0.00_z=5.05.txt')\n",
    "print(len(trap_in))"
   ]
  },
  {
   "cell_type": "code",
   "execution_count": 7,
   "id": "46beafce",
   "metadata": {},
   "outputs": [
    {
     "data": {
      "text/plain": [
       "Text(0.5, 0, 'Time (ns)')"
      ]
     },
     "execution_count": 7,
     "metadata": {},
     "output_type": "execute_result"
    },
    {
     "data": {
      "image/png": "[encoded data removed]",
      "text/plain": [
       "<Figure size 640x480 with 1 Axes>"
      ]
     },
     "metadata": {},
     "output_type": "display_data"
    }
   ],
   "source": [
    "plt.plot(time,trap_in)\n",
    "plt.ylabel('Charge signal')\n",
    "plt.xlabel('Time (ns)')\n",
    "# plt.legend(['with self-repulsion', 'without self-repulsion'])\n",
    "# plt.title('Max energy using SR - max energy without SR at radius=25.00')\n",
    "# plt.legend(['z=0.05','z=0.10','z=0.15','z=0.20','z=0.50','z=1.00','z=2.00','z=3.00','z=5.00','z=10.00'])"
   ]
  },
  {
   "cell_type": "code",
   "execution_count": 38,
   "id": "7d3122e3",
   "metadata": {
    "scrolled": true
   },
   "outputs": [
    {
     "name": "stdout",
     "output_type": "stream",
     "text": [
      "20000\n"
     ]
    }
   ],
   "source": [
    "# rise time of 4 us and a flat top of 2.5 us. We pick off the energy at 6 us from the start time\n",
    "# Parameters\n",
    "# w_in (ndarray) -- the input waveform.\n",
    "\n",
    "# rise (int) -- the number of samples averaged in the rise and fall sections.\n",
    "\n",
    "# flat (int) -- the delay between the rise and fall sections.\n",
    "\n",
    "# w_out (ndarray) -- the filtered waveform\n",
    "rise_time = 500 #ns\n",
    "flat_top = 2500 #ns\n",
    "pickup = 3000 #ns\n",
    "trap_out = np.zeros(len(trap_in))\n",
    "trap_norm(trap_in, int(rise_time/time_step_calc), int(flat_top/time_step_calc), trap_out)\n",
    "print(len(trap_out))"
   ]
  },
  {
   "cell_type": "code",
   "execution_count": 62,
   "id": "cb0906f2",
   "metadata": {},
   "outputs": [
    {
     "name": "stdout",
     "output_type": "stream",
     "text": [
      "energy collected at pickup 0.9989470067999995\n"
     ]
    },
    {
     "data": {
      "text/plain": [
       "Text(0.5, 0, 'Time (ns)')"
      ]
     },
     "execution_count": 62,
     "metadata": {},
     "output_type": "execute_result"
    },
    {
     "data": {
      "image/png": "[encoded data removed]",
      "text/plain": [
       "<Figure size 640x480 with 1 Axes>"
      ]
     },
     "metadata": {},
     "output_type": "display_data"
    }
   ],
   "source": [
    "plt.plot(time,trap_out)\n",
    "plt.axvline(x=pickup)\n",
    "print(\"energy collected at pickup\", trap_out[(int)(pickup/time_step_calc)])\n",
    "plt.ylabel('Charge signal')\n",
    "plt.xlabel('Time (ns)')"
   ]
  },
  {
   "cell_type": "code",
   "execution_count": 10,
   "id": "3f55674e",
   "metadata": {},
   "outputs": [],
   "source": [
    "energy=np.array([])\n",
    "grid=np.array([])\n",
    "sr=np.array([])\n",
    "detector=np.array([])\n",
    "surface_charge=np.array([])\n",
    "radius=np.array([])\n",
    "height=np.array([])\n",
    "phi=np.array([])\n",
    "charge_data = np.empty((0,len(time)),dtype=float)\n",
    "\n",
    "directory = '/Users/kevinhbhimani/Desktop/siggen_sims/GPU_work/waveforms_low-E'\n"
   ]
  },
  {
   "cell_type": "code",
   "execution_count": 11,
   "id": "bac66435",
   "metadata": {
    "scrolled": false
   },
   "outputs": [
    {
     "name": "stderr",
     "output_type": "stream",
     "text": [
      "  0%|                                                     | 0/6 [00:00<?, ?it/s]\n"
     ]
    },
    {
     "ename": "ValueError",
     "evalue": "all the input array dimensions for the concatenation axis must match exactly, but along dimension 1, the array at index 0 has size 20000 and the array at index 1 has size 400",
     "output_type": "error",
     "traceback": [
      "\u001b[0;31m---------------------------------------------------------------------------\u001b[0m",
      "\u001b[0;31mValueError\u001b[0m                                Traceback (most recent call last)",
      "Input \u001b[0;32mIn [11]\u001b[0m, in \u001b[0;36m<cell line: 1>\u001b[0;34m()\u001b[0m\n\u001b[1;32m     28\u001b[0m surface_charge \u001b[38;5;241m=\u001b[39m np\u001b[38;5;241m.\u001b[39mappend(surface_charge, \u001b[38;5;28mfloat\u001b[39m(q_val))\n\u001b[1;32m     29\u001b[0m data \u001b[38;5;241m=\u001b[39m np\u001b[38;5;241m.\u001b[39mloadtxt(directory\u001b[38;5;241m+\u001b[39m\u001b[38;5;124m'\u001b[39m\u001b[38;5;124m/\u001b[39m\u001b[38;5;124m'\u001b[39m\u001b[38;5;241m+\u001b[39mfilename\u001b[38;5;241m+\u001b[39m\u001b[38;5;124m'\u001b[39m\u001b[38;5;124m/\u001b[39m\u001b[38;5;124m'\u001b[39m\u001b[38;5;241m+\u001b[39mfilename_g\u001b[38;5;241m+\u001b[39m\u001b[38;5;124m'\u001b[39m\u001b[38;5;124m/\u001b[39m\u001b[38;5;124m'\u001b[39m\u001b[38;5;241m+\u001b[39mfilename_e\u001b[38;5;241m+\u001b[39m\u001b[38;5;124m'\u001b[39m\u001b[38;5;124m/\u001b[39m\u001b[38;5;124m'\u001b[39m\u001b[38;5;241m+\u001b[39mfilename_sr\u001b[38;5;241m+\u001b[39m\u001b[38;5;124m'\u001b[39m\u001b[38;5;124m/\u001b[39m\u001b[38;5;124m'\u001b[39m\u001b[38;5;241m+\u001b[39mfilename_det\u001b[38;5;241m+\u001b[39m\u001b[38;5;124m'\u001b[39m\u001b[38;5;124m/\u001b[39m\u001b[38;5;124m'\u001b[39m\u001b[38;5;241m+\u001b[39m filename_q)\n\u001b[0;32m---> 30\u001b[0m charge_data \u001b[38;5;241m=\u001b[39m \u001b[43mnp\u001b[49m\u001b[38;5;241;43m.\u001b[39;49m\u001b[43mvstack\u001b[49m\u001b[43m(\u001b[49m\u001b[43m[\u001b[49m\u001b[43mcharge_data\u001b[49m\u001b[43m,\u001b[49m\u001b[43m \u001b[49m\u001b[43mdata\u001b[49m\u001b[43m]\u001b[49m\u001b[43m)\u001b[49m\n",
      "File \u001b[0;32m<__array_function__ internals>:5\u001b[0m, in \u001b[0;36mvstack\u001b[0;34m(*args, **kwargs)\u001b[0m\n",
      "File \u001b[0;32m~/opt/anaconda3/lib/python3.9/site-packages/numpy/core/shape_base.py:282\u001b[0m, in \u001b[0;36mvstack\u001b[0;34m(tup)\u001b[0m\n\u001b[1;32m    280\u001b[0m \u001b[38;5;28;01mif\u001b[39;00m \u001b[38;5;129;01mnot\u001b[39;00m \u001b[38;5;28misinstance\u001b[39m(arrs, \u001b[38;5;28mlist\u001b[39m):\n\u001b[1;32m    281\u001b[0m     arrs \u001b[38;5;241m=\u001b[39m [arrs]\n\u001b[0;32m--> 282\u001b[0m \u001b[38;5;28;01mreturn\u001b[39;00m \u001b[43m_nx\u001b[49m\u001b[38;5;241;43m.\u001b[39;49m\u001b[43mconcatenate\u001b[49m\u001b[43m(\u001b[49m\u001b[43marrs\u001b[49m\u001b[43m,\u001b[49m\u001b[43m \u001b[49m\u001b[38;5;241;43m0\u001b[39;49m\u001b[43m)\u001b[49m\n",
      "File \u001b[0;32m<__array_function__ internals>:5\u001b[0m, in \u001b[0;36mconcatenate\u001b[0;34m(*args, **kwargs)\u001b[0m\n",
      "\u001b[0;31mValueError\u001b[0m: all the input array dimensions for the concatenation axis must match exactly, but along dimension 1, the array at index 0 has size 20000 and the array at index 1 has size 400"
     ]
    }
   ],
   "source": [
    "for filename in tqdm(os.listdir(directory)):\n",
    "    if('_keV' in filename):\n",
    "        energy_val = filename.split(\"_\")[0]\n",
    "        for filename_g in (os.listdir(directory + '/' + filename)):\n",
    "            if('grid' in directory + '/' + filename_g):\n",
    "                grid_val = filename_g.split(\"_\")[1]\n",
    "                for filename_e in (os.listdir(directory + '/' + filename + '/' + filename_g)):\n",
    "                    if('self_repulsion' in filename_e):\n",
    "                        sr_val = filename_e.split(\"_\")[2]\n",
    "                        for filename_sr in (os.listdir(directory + '/' + filename + '/' + filename_g + '/' + filename_e)):\n",
    "                            if (filename_sr.startswith('.')) == False:\n",
    "                                det_val = filename_sr\n",
    "                                for filename_det in (os.listdir(directory + '/' + filename + '/' + filename_g + '/' + filename_e + '/' + filename_sr)):\n",
    "                                    if ('q=' in filename_det):\n",
    "                                        q_val = filename_det.split(\"=\")[1]\n",
    "                                        for filename_q in (os.listdir(directory+'/'+filename+'/'+ filename_g+'/'+filename_e+'/'+filename_sr+'/'+filename_det)):\n",
    "                                            if('signal_' in filename_q):\n",
    "                                                r_val = filename_q.split(\"_\")[1].split(\"=\")[1]\n",
    "                                                phi_val = filename_q.split(\"_\")[2].split(\"=\")[1]\n",
    "                                                z_temp = filename_q.split(\"_\")[3].split(\"=\")[1].split(\".\")\n",
    "                                                z_val = z_temp[0]+\".\"+z_temp[1]\n",
    "                                                energy = np.append(energy, float(energy_val))\n",
    "                                                grid = np.append(grid,float(grid_val))\n",
    "                                                radius = np.append(radius, float(r_val))\n",
    "                                                height = np.append(height, float(z_val))\n",
    "                                                phi = np.append(phi, float(phi_val))\n",
    "                                                sr = np.append(sr, float(sr_val))\n",
    "                                                surface_charge = np.append(surface_charge, float(q_val))\n",
    "                                                data = np.loadtxt(directory+'/'+filename+'/'+filename_g+'/'+filename_e+'/'+filename_sr+'/'+filename_det+'/'+ filename_q)\n",
    "                                                charge_data = np.vstack([charge_data, data])\n"
   ]
  },
  {
   "cell_type": "code",
   "execution_count": null,
   "id": "fa76be20",
   "metadata": {},
   "outputs": [],
   "source": [
    "print(charge_data[sr==1])"
   ]
  },
  {
   "cell_type": "code",
   "execution_count": null,
   "id": "4fab5b69",
   "metadata": {
    "scrolled": true
   },
   "outputs": [],
   "source": [
    "# plt.plot(time,charge_data[(radius==15)&(sr==1)&(height==5.00)&(grid==0.010)&(energy==5000.00)][0],'-',markersize=2,color='tab:green')\n",
    "# #plt.plot(time,charge_data[(radius==15)&(sr==1)&(height==0.02)&(grid==0.015)&(energy==5000.00)][0],'-',markersize=2,color='tab:purple')\n",
    "# plt.plot(time,charge_data[(radius==15)&(sr==1)&(height==5.00)&(grid==0.020)&(energy==5000.00)][0],'-',markersize=2,color='tab:orange')\n",
    "# # plt.plot(time,charge_data[(radius==15)&(sr==1)&(height==0.10)&(grid==0.025)&(energy==5000.00)][0],'-',markersize=2,color='tab:red')\n",
    "# # plt.plot(time,charge_data[(radius==15)&(sr==1)&(height==0.10)&(grid==0.03)&(energy==5000.00)][0],'-',markersize=2,color='tab:blue')\n",
    "# # plt.plot(time,charge_data[(radius==15)&(sr==1)&(height==0.10)&(grid==0.035)&(energy==5000.00)][0],'-',markersize=2,color='tab:grey')\n",
    "# # plt.plot(time,charge_data[(radius==15)&(sr==1)&(height==0.10)&(grid==0.04)&(energy==5000.00)][0],'-',markersize=2,color='tab:olive')\n",
    "\n",
    "# plt.legend(['0.0100 with initial density split over 8 voxels, time step=0.2', '0.0200 with initial density split over 2 voxels, time step=0.2'])\n",
    "\n",
    "# plt.xlabel('Time (ns)')\n",
    "# plt.ylabel('Charge signal')\n",
    "# plt.title('Signal collected for various grid sizes, $r=15,z=5.00$, SR=1, Energy=$5$MeV')"
   ]
  },
  {
   "cell_type": "code",
   "execution_count": null,
   "id": "8dfecd91",
   "metadata": {},
   "outputs": [],
   "source": [
    "# plt.plot(time,charge_data[(radius==15)&(sr==1)&(height==5.00)&(grid==0.010)&(energy==5000.00)][0]-charge_data[(radius==15)&(sr==1)&(height==5.00)&(grid==0.020)&(energy==5000.00)][0],'-',markersize=2,color='tab:red')\n",
    "# #plt.legend(['0.0100', '0.0150', '0.0200'])\n",
    "\n",
    "# plt.xlabel('Time (ns)')\n",
    "# plt.ylabel('Charge signal')\n",
    "# plt.title('Signal collected for at $10\\mu$ grid- $20\\mu$grid , $r=15,z=5.00$, SR=1, Energy=$5$MeV')"
   ]
  },
  {
   "cell_type": "code",
   "execution_count": null,
   "id": "04e2b358",
   "metadata": {},
   "outputs": [],
   "source": [
    "# plt.plot(time, charge_data[(energy==600)&(radius==15)&(sr==1)&(height==0.50)][0],'-',markersize=1,color='tab:green')\n",
    "# plt.ylabel('Charge signal')\n",
    "# plt.xlabel('Time')\n",
    "# #plt.title('Max energy collected using SR - max energy collected without SR, height=0.50')"
   ]
  },
  {
   "cell_type": "code",
   "execution_count": null,
   "id": "9da158ea",
   "metadata": {},
   "outputs": [],
   "source": []
  },
  {
   "cell_type": "code",
   "execution_count": null,
   "id": "baa98368",
   "metadata": {},
   "outputs": [],
   "source": [
    "collected_sr = np.max(charge_data[(radius==25)&(sr==1)&(height==0.05)],axis=1)\n",
    "collected_wsr = np.max(charge_data[(radius==25)&(sr==0)&(height==0.05)],axis=1)"
   ]
  },
  {
   "cell_type": "code",
   "execution_count": null,
   "id": "d11215d5",
   "metadata": {},
   "outputs": [],
   "source": [
    "cor_energy = energy[(radius==25)&(sr==1)&(height==0.05)]\n",
    "cor_radius = radius[(energy==600)&(sr==1)&(height==0.05)]\n",
    "c_rad_sr = np.max(charge_data[(energy==600)&(sr==1)&(height==0.05)],axis=1)\n",
    "c_rad= np.max(charge_data[(energy==600)&(sr==0)&(height==0.05)],axis=1)"
   ]
  },
  {
   "cell_type": "code",
   "execution_count": null,
   "id": "7c4bad74",
   "metadata": {
    "scrolled": true
   },
   "outputs": [],
   "source": [
    "plt.plot(energy[(radius==25)&(sr==1)&(height==0.05)],np.max(charge_data[(radius==25)&(sr==1)&(height==0.05)],axis=1),'o',markersize=5,color='tab:purple')\n",
    "plt.plot(energy[(radius==25)&(sr==1)&(height==0.05)], np.max(charge_data[(radius==25)&(sr==0)&(height==0.05)],axis=1),'o',markersize=5,color='tab:green')\n",
    "#plt.plot(cor_energy, collected_sr-collected_wsr,'o',markersize=5,color='tab:red')\n",
    "\n",
    "#plt.ylim([0.9, 1.1])\n",
    "\n",
    "plt.ylabel('Charge signal')\n",
    "plt.xlabel('Energy (keV)')\n",
    "plt.legend(['with self-repulsion', 'without self-repulsion'])\n",
    "plt.title('Signal collected for events at $r=25.00$ mm, $z=0.05$ mm') #for surface charge=0.00 e10 e/cm$^2$\n",
    "#plt.savefig('/Users/kevinhbhimani/Desktop/Thesis_proposal_figs/low_e_sr_sig.png')\n"
   ]
  },
  {
   "cell_type": "code",
   "execution_count": null,
   "id": "60fedfc6",
   "metadata": {},
   "outputs": [],
   "source": [
    "plt.plot(energy[(radius==5)&(sr==1)&(height==0.05)],np.max(charge_data[(radius==5)&(sr==1)&(height==0.05)],axis=1)-np.max(charge_data[(radius==5)&(sr==0)&(height==0.05)],axis=1),'o',markersize=5,color='tab:green')\n",
    "plt.plot(energy[(radius==15)&(sr==1)&(height==0.05)],np.max(charge_data[(radius==15)&(sr==1)&(height==0.05)],axis=1)-np.max(charge_data[(radius==15)&(sr==0)&(height==0.05)],axis=1),'o',markersize=5,color='tab:purple')\n",
    "plt.plot(energy[(radius==25)&(sr==1)&(height==0.05)],np.max(charge_data[(radius==25)&(sr==1)&(height==0.05)],axis=1)-np.max(charge_data[(radius==25)&(sr==0)&(height==0.05)],axis=1),'o',markersize=5,color='tab:cyan')\n",
    "\n",
    "\n",
    "\n",
    "plt.ylabel('Charge signal')\n",
    "plt.xlabel('Energy (keV)')\n",
    "plt.legend(['with self-repulsion', 'without self-repulsion'])\n",
    "plt.title('Max energy using SR - max energy without SR  height=0.05')\n",
    "plt.legend(['radius=5','radius=15','radius=25'])\n",
    "\n",
    "\n"
   ]
  },
  {
   "cell_type": "code",
   "execution_count": null,
   "id": "76a08ce1",
   "metadata": {},
   "outputs": [],
   "source": [
    "plt.plot(energy[(radius==25)&(sr==1)&(height==0.05)],np.max(charge_data[(radius==25)&(sr==1)&(height==0.05)],axis=1)-np.max(charge_data[(radius==25)&(sr==0)&(height==0.05)],axis=1),'o',markersize=5,color='tab:green')\n",
    "plt.plot(energy[(radius==25)&(sr==1)&(height==0.10)],np.max(charge_data[(radius==25)&(sr==1)&(height==0.10)],axis=1)-np.max(charge_data[(radius==25)&(sr==0)&(height==0.10)],axis=1),'o',markersize=5,color='tab:purple')\n",
    "plt.plot(energy[(radius==25)&(sr==1)&(height==0.15)],np.max(charge_data[(radius==25)&(sr==1)&(height==0.15)],axis=1)-np.max(charge_data[(radius==25)&(sr==0)&(height==0.15)],axis=1),'o',markersize=5,color='tab:cyan')\n",
    "plt.plot(energy[(radius==25)&(sr==1)&(height==0.20)],np.max(charge_data[(radius==25)&(sr==1)&(height==0.20)],axis=1)-np.max(charge_data[(radius==25)&(sr==0)&(height==0.20)],axis=1),'o',markersize=5,color='tab:orange')\n",
    "plt.plot(energy[(radius==25)&(sr==1)&(height==0.50)],np.max(charge_data[(radius==25)&(sr==1)&(height==0.50)],axis=1)-np.max(charge_data[(radius==25)&(sr==0)&(height==0.50)],axis=1),'o',markersize=5,color='tab:blue')\n",
    "plt.plot(energy[(radius==25)&(sr==1)&(height==1.00)],np.max(charge_data[(radius==25)&(sr==1)&(height==1.00)],axis=1)-np.max(charge_data[(radius==25)&(sr==0)&(height==1.00)],axis=1),'o',markersize=5,color='tab:red')\n",
    "plt.plot(energy[(radius==25)&(sr==1)&(height==2.00)],np.max(charge_data[(radius==25)&(sr==1)&(height==2.00)],axis=1)-np.max(charge_data[(radius==25)&(sr==0)&(height==2.00)],axis=1),'o',markersize=5,color='tab:purple')\n",
    "plt.plot(energy[(radius==25)&(sr==1)&(height==3.00)],np.max(charge_data[(radius==25)&(sr==1)&(height==3.00)],axis=1)-np.max(charge_data[(radius==25)&(sr==0)&(height==3.00)],axis=1),'o',markersize=5,color='tab:pink')\n",
    "plt.plot(energy[(radius==25)&(sr==1)&(height==5.00)],np.max(charge_data[(radius==25)&(sr==1)&(height==5.00)],axis=1)-np.max(charge_data[(radius==25)&(sr==0)&(height==5.00)],axis=1),'o',markersize=5,color='tab:grey')\n",
    "plt.plot(energy[(radius==25)&(sr==1)&(height==10.00)],np.max(charge_data[(radius==25)&(sr==1)&(height==10.00)],axis=1)-np.max(charge_data[(radius==25)&(sr==0)&(height==10.00)],axis=1),'o',markersize=5,color='tab:olive')\n",
    "\n",
    "\n",
    "plt.ylabel('Charge signal')\n",
    "plt.xlabel('Energy (keV)')\n",
    "plt.legend(['with self-repulsion', 'without self-repulsion'])\n",
    "plt.title('Max energy using SR - max energy without SR at radius=25.00')\n",
    "plt.legend(['z=0.05','z=0.10','z=0.15','z=0.20','z=0.50','z=1.00','z=2.00','z=3.00','z=5.00','z=10.00'])"
   ]
  },
  {
   "cell_type": "code",
   "execution_count": null,
   "id": "fe7f8753",
   "metadata": {
    "scrolled": true
   },
   "outputs": [],
   "source": [
    "c_height = height[(energy==600)&(radius==25)&(sr==1)]\n",
    "c_height_col_sr = np.max(charge_data[(energy==600)&(radius==25)&(sr==1)],axis=1)\n",
    "c_height_col = np.max(charge_data[(energy==600)&(radius==25)&(sr==0)],axis=1)"
   ]
  },
  {
   "cell_type": "code",
   "execution_count": null,
   "id": "0d988b93",
   "metadata": {},
   "outputs": [],
   "source": [
    "plt.plot(c_height,np.max(charge_data[(energy==600)&(radius==25)&(sr==1)],axis=1),'o',markersize=5,color='tab:purple')\n",
    "plt.plot(c_height, np.max(charge_data[(energy==600)&(radius==25)&(sr==0)],axis=1),'o',markersize=5,color='tab:green')\n",
    "\n",
    "plt.ylabel('Charge signal')\n",
    "plt.xlabel('Height (mm)')\n",
    "plt.legend(['with self-repulsion', 'without self-repulsion'])\n",
    "plt.title('Max signal at event with Energy = 600 keV, $r=25.00$ mm')"
   ]
  },
  {
   "cell_type": "code",
   "execution_count": null,
   "id": "36d3901d",
   "metadata": {},
   "outputs": [],
   "source": [
    "plt.plot(cor_radius,np.max(charge_data[(energy==600)&(sr==1)&(height==0.05)],axis=1),'o',markersize=5,color='tab:purple')\n",
    "plt.plot(cor_radius, np.max(charge_data[(energy==600)&(sr==0)&(height==0.05)],axis=1),'o',markersize=5,color='tab:green')\n",
    "\n",
    "plt.ylabel('Charge signal')\n",
    "plt.xlabel('Radius (mm)')\n",
    "plt.legend(['with self-repulsion', 'without self-repulsion'])\n",
    "plt.title('Energy = 600 keV, $z=0.05$ mm')"
   ]
  },
  {
   "cell_type": "code",
   "execution_count": null,
   "id": "97e20f28",
   "metadata": {},
   "outputs": [],
   "source": [
    "plt.plot(energy[(radius==20)&(sr==1)&(height==0.05)],np.max(charge_data[(radius==25)&(sr==1)&(height==0.05)],axis=1)-np.max(charge_data[(radius==25)&(sr==0)&(height==0.05)],axis=1),'o',markersize=5,color='tab:green')\n",
    "plt.plot(energy[(radius==25)&(sr==1)&(height==0.10)],np.max(charge_data[(radius==25)&(sr==1)&(height==0.10)],axis=1)-np.max(charge_data[(radius==25)&(sr==0)&(height==0.10)],axis=1),'o',markersize=5,color='tab:purple')\n",
    "plt.plot(energy[(radius==25)&(sr==1)&(height==0.15)],np.max(charge_data[(radius==25)&(sr==1)&(height==0.15)],axis=1)-np.max(charge_data[(radius==25)&(sr==0)&(height==0.15)],axis=1),'o',markersize=5,color='tab:cyan')\n",
    "plt.plot(energy[(radius==25)&(sr==1)&(height==0.20)],np.max(charge_data[(radius==25)&(sr==1)&(height==0.20)],axis=1)-np.max(charge_data[(radius==25)&(sr==0)&(height==0.20)],axis=1),'o',markersize=5,color='tab:orange')\n",
    "plt.plot(energy[(radius==25)&(sr==1)&(height==0.50)],np.max(charge_data[(radius==25)&(sr==1)&(height==0.50)],axis=1)-np.max(charge_data[(radius==25)&(sr==0)&(height==0.50)],axis=1),'o',markersize=5,color='tab:blue')\n",
    "plt.plot(energy[(radius==25)&(sr==1)&(height==1.00)],np.max(charge_data[(radius==25)&(sr==1)&(height==1.00)],axis=1)-np.max(charge_data[(radius==25)&(sr==0)&(height==1.00)],axis=1),'o',markersize=5,color='tab:red')\n",
    "plt.plot(energy[(radius==25)&(sr==1)&(height==2.00)],np.max(charge_data[(radius==25)&(sr==1)&(height==2.00)],axis=1)-np.max(charge_data[(radius==25)&(sr==0)&(height==2.00)],axis=1),'o',markersize=5,color='tab:purple')\n",
    "plt.plot(energy[(radius==25)&(sr==1)&(height==3.00)],np.max(charge_data[(radius==25)&(sr==1)&(height==3.00)],axis=1)-np.max(charge_data[(radius==25)&(sr==0)&(height==3.00)],axis=1),'o',markersize=5,color='tab:pink')\n",
    "plt.plot(energy[(radius==25)&(sr==1)&(height==5.00)],np.max(charge_data[(radius==25)&(sr==1)&(height==5.00)],axis=1)-np.max(charge_data[(radius==25)&(sr==0)&(height==5.00)],axis=1),'o',markersize=5,color='tab:grey')\n",
    "plt.plot(energy[(radius==25)&(sr==1)&(height==10.00)],np.max(charge_data[(radius==25)&(sr==1)&(height==10.00)],axis=1)-np.max(charge_data[(radius==25)&(sr==0)&(height==10.00)],axis=1),'o',markersize=5,color='tab:olive')\n",
    "\n",
    "\n",
    "plt.ylabel('Charge signal')\n",
    "plt.xlabel('Energy (keV)')\n",
    "plt.legend(['with self-repulsion', 'without self-repulsion'])\n",
    "plt.title('Max energy using SR - max energy without SR at radius=25.00')\n",
    "plt.legend(['z=0.05','z=0.10','z=0.15','z=0.20','z=0.50','z=1.00','z=2.00','z=3.00','z=5.00','z=10.00'])"
   ]
  },
  {
   "cell_type": "code",
   "execution_count": null,
   "id": "9772b18d",
   "metadata": {
    "scrolled": true
   },
   "outputs": [],
   "source": [
    "cut_z = (radius==20)&(sr_val==1)&(grid==0.02)&(energy==800)\n",
    "norm = plt.Normalize()\n",
    "colors = plt.cm.jet(norm(height[cut_z]))\n",
    "for z in tqdm(height):\n",
    "    cut = (radius==20)&(sr==1)&(height==z)&(grid==0.02)&(energy==800)\n",
    "#     cut_2 = (radius==20)&(sr_val==0)&(height==z)&(grid==0.02)&(energy==800)\n",
    "    plt.plot(height[cut],np.max(charge_data[cut],axis=1),'o',markersize=5, color=plt.cm.jet(z/max(height)))\n",
    "#     plt.plot(height[cut_2],np.max(charge_data[cut_2],axis=1),'o',markersize=5, color=plt.cm.summer(z/max(height)))\n",
    "plt.ylabel('Charge signal')\n",
    "plt.xlabel('Height (mm)')\n",
    "# plt.legend(['with self-repulsion', 'without self-repulsion'])\n",
    "plt.title('Fraction of charged collected at various height without SR, Energy=800keV')\n",
    "# plt.legend(['z=0.05','z=0.10','z=0.15','z=0.20','z=0.50','z=1.00','z=2.00','z=3.00','z=5.00','z=10.00'])\n",
    "plt.show()"
   ]
  },
  {
   "cell_type": "code",
   "execution_count": null,
   "id": "30cefc7f",
   "metadata": {},
   "outputs": [],
   "source": [
    "cut = (radius==20)&(sr==1)&(height==5.05)&(grid==0.02)&(energy==800)\n",
    "print(np.max(charge_data[cut],axis=1))"
   ]
  },
  {
   "cell_type": "code",
   "execution_count": null,
   "id": "d7c86fd1",
   "metadata": {},
   "outputs": [],
   "source": []
  },
  {
   "cell_type": "code",
   "execution_count": null,
   "id": "88f6d73b",
   "metadata": {},
   "outputs": [],
   "source": []
  }
 ],
 "metadata": {
  "kernelspec": {
   "display_name": "Python 3 (ipykernel)",
   "language": "python",
   "name": "python3"
  },
  "language_info": {
   "codemirror_mode": {
    "name": "ipython",
    "version": 3
   },
   "file_extension": ".py",
   "mimetype": "text/x-python",
   "name": "python",
   "nbconvert_exporter": "python",
   "pygments_lexer": "ipython3",
   "version": "3.9.12"
  }
 },
 "nbformat": 4,
 "nbformat_minor": 5
}
