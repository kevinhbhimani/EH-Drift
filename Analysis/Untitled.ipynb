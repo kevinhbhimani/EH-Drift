{
 "cells": [
  {
   "cell_type": "code",
   "execution_count": 6,
   "id": "6931c8ea-b41f-4008-a856-22705533aa97",
   "metadata": {},
   "outputs": [
    {
     "data": {
      "text/html": [
       "<style>.container { width:100% !important; }</style>"
      ],
      "text/plain": [
       "<IPython.core.display.HTML object>"
      ]
     },
     "metadata": {},
     "output_type": "display_data"
    }
   ],
   "source": [
    "import numpy as np\n",
    "import matplotlib.pyplot as plt\n",
    "plt.style.use('default')\n",
    "import matplotlib\n",
    "import pandas as pd\n",
    "import os\n",
    "import re\n",
    "from tqdm import tqdm\n",
    "from dspeed.processors.trap_filters import trap_norm\n",
    "\n",
    "color_array=np.linspace(0,1,11)\n",
    "cmap = plt.cm.tab20b\n",
    "\n",
    "from IPython.display import display, HTML\n",
    "display(HTML(\"<style>.container { width:100% !important; }</style>\")) #makes the notebook wider\n",
    "plt.style.use('default')\n",
    "import h5py\n"
   ]
  },
  {
   "cell_type": "code",
   "execution_count": 20,
   "id": "6ef44095-89b9-411d-84d8-71fbda336a23",
   "metadata": {},
   "outputs": [
    {
     "name": "stdout",
     "output_type": "stream",
     "text": [
      "Waveform: [0.01988337 0.03922808 0.05843651 ... 0.99233895 0.99233917 0.9923394 ]\n",
      "Energy: 5000.0\n",
      "r: 15.0\n",
      "z: 0.05\n",
      "Grid: 0.05\n",
      "Detector Name: P42575A\u0000\n",
      "Surface Charge: 0.0\n",
      "Self Repulsion: 1\n"
     ]
    }
   ],
   "source": [
    "import h5py\n",
    "\n",
    "file_path = '/nas/longleaf/home/kbhimani/siggen_ccd/waveforms/signal_data_5000.00_keV_grid0.0500_P42575A_q0.00_r15.00_z0.05.h5'\n",
    "\n",
    "# Open the HDF5 file\n",
    "with h5py.File(file_path, 'r') as file:\n",
    "    # Read the waveform dataset\n",
    "    waveform = file['/waveform'][:]\n",
    "    \n",
    "    # Read other datasets\n",
    "    energy = file['/energy'][0]\n",
    "    r = file['/r'][0]\n",
    "    z = file['/z'][0]\n",
    "    grid = file['/grid'][0]\n",
    "\n",
    "    # Read detector name as a dataset\n",
    "    detector_name_bytes = file['/detector_name'][:]\n",
    "    detector_name = detector_name_bytes.tobytes().decode('utf-8')\n",
    "\n",
    "    # Read attributes\n",
    "    surface_charge = file.attrs['surface_charge']\n",
    "    self_repulsion = file.attrs['self_repulsion']\n",
    "\n",
    "    # Now you can use the data\n",
    "    print(\"Waveform:\", waveform)\n",
    "    print(\"Energy:\", energy)\n",
    "    print(\"r:\", r)\n",
    "    print(\"z:\", z)\n",
    "    print(\"Grid:\", grid)\n",
    "    print(\"Detector Name:\", detector_name)\n",
    "    print(\"Surface Charge:\", surface_charge)\n",
    "    print(\"Self Repulsion:\", self_repulsion)\n"
   ]
  },
  {
   "cell_type": "code",
   "execution_count": null,
   "id": "febd1603-72fc-464d-9b65-6fd0dc11be81",
   "metadata": {},
   "outputs": [],
   "source": []
  }
 ],
 "metadata": {
  "kernelspec": {
   "display_name": "legend-sw",
   "language": "python",
   "name": "legend-software"
  },
  "language_info": {
   "codemirror_mode": {
    "name": "ipython",
    "version": 3
   },
   "file_extension": ".py",
   "mimetype": "text/x-python",
   "name": "python",
   "nbconvert_exporter": "python",
   "pygments_lexer": "ipython3",
   "version": "3.11.3"
  }
 },
 "nbformat": 4,
 "nbformat_minor": 5
}
