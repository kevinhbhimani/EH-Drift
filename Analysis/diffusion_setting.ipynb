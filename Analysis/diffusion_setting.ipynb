{
 "cells": [
  {
   "cell_type": "code",
   "execution_count": 2,
   "id": "2e228410",
   "metadata": {},
   "outputs": [],
   "source": [
    "import os\n",
    "import pandas as pd\n",
    "import numpy as np\n",
    "import matplotlib.pyplot as plt\n",
    "from io import StringIO\n",
    "from tqdm import tqdm"
   ]
  },
  {
   "cell_type": "code",
   "execution_count": 3,
   "id": "c9f35b3e",
   "metadata": {},
   "outputs": [],
   "source": [
    "directory_20m = '/Users/kevinhbhimani/Desktop/GPU_work/test/20micron_bulk/'\n",
    "directory_10m = '/Users/kevinhbhimani/Desktop/GPU_work/test/10micron_bulk/'\n",
    "i=30\n"
   ]
  },
  {
   "cell_type": "code",
   "execution_count": 4,
   "id": "5e0a84f3",
   "metadata": {},
   "outputs": [],
   "source": [
    "data_e_20m=np.loadtxt(directory_20m+ 'ed{:03d}.dat'.format(i))\n",
    "data_h_20m=np.loadtxt(directory_20m+ 'hd{:03d}.dat'.format(i))\n",
    "\n",
    "data_e_10m=np.loadtxt(directory_10m+ 'ed{:03d}.dat'.format(i))\n",
    "data_h_10m=np.loadtxt(directory_10m+ 'hd{:03d}.dat'.format(i))\n",
    "\n",
    "rad_e_20m=data_e_20m[:,0]\n",
    "height_e_20m=data_e_20m[:,1]\n",
    "dens_r_e_20m=data_e_20m[:,2]\n",
    "rad_h_20m=data_h_20m[:,0]\n",
    "height_h_20m=data_h_20m[:,1]\n",
    "dens_r_h_20m=data_h_20m[:,2]\n",
    "\n",
    "rad_e_10m=data_e_10m[:,0]\n",
    "dens_r_e_10m=data_e_10m[:,2]\n",
    "height_e_10m=data_e_10m[:,1]\n",
    "rad_h_10m=data_h_10m[:,0]\n",
    "height_h_10m=data_h_10m[:,1]\n",
    "dens_r_h_10m=data_h_10m[:,2]"
   ]
  },
  {
   "cell_type": "code",
   "execution_count": 5,
   "id": "ebfbc060",
   "metadata": {},
   "outputs": [
    {
     "name": "stdout",
     "output_type": "stream",
     "text": [
      "1533\n",
      "404.1971248406837\n"
     ]
    }
   ],
   "source": [
    "print(len(dens_r_e_20m[dens_r_e_20m>0]))\n",
    "print(np.sum(dens_r_e_20m))"
   ]
  },
  {
   "cell_type": "code",
   "execution_count": 6,
   "id": "2a074be5",
   "metadata": {},
   "outputs": [
    {
     "name": "stdout",
     "output_type": "stream",
     "text": [
      "4280\n",
      "3238.1094015883896\n"
     ]
    }
   ],
   "source": [
    "print(len(dens_r_e_10m[dens_r_e_10m>0]))\n",
    "print(np.sum(dens_r_e_10m))"
   ]
  },
  {
   "cell_type": "code",
   "execution_count": 50,
   "id": "7fcc5dc5",
   "metadata": {},
   "outputs": [],
   "source": [
    "r_set=np.array([])\n",
    "z_set=np.array([])\n",
    "den_set=np.array([])"
   ]
  },
  {
   "cell_type": "code",
   "execution_count": null,
   "id": "1ad03df5",
   "metadata": {},
   "outputs": [
    {
     "name": "stderr",
     "output_type": "stream",
     "text": [
      " 45%|████▍     | 776/1735 [3:13:38<2:58:34, 11.17s/it]  "
     ]
    }
   ],
   "source": [
    "grid = 0.01\n",
    "for i in tqdm(range(0, int(np.max(rad_e_10m)/grid), 2)):\n",
    "    for j in range (0, int(np.max(height_e_10m)/grid),2):\n",
    "        #print('i=',i,'j=',j, 'den=', dens_r_e_10m[(rad_e_10m==i*grid)&(height_e_10m==j*grid)])\n",
    "        r_set=np.append(r_set, round(i*grid,2))\n",
    "        z_set=np.append(z_set, round(j*grid,2))\n",
    "        new_den = np.round((dens_r_e_10m[(rad_e_10m==i*grid)&(height_e_10m==j*grid)] \n",
    "            + dens_r_e_10m[(rad_e_10m==(i+1)*grid)&(height_e_10m==j*grid)] \n",
    "            + dens_r_e_10m[(rad_e_10m==i*grid)&(height_e_10m==(j+1)*grid)]\n",
    "            + dens_r_e_10m[(rad_e_10m==(i+1)*grid)&(height_e_10m==(j+1)*grid)]),2) \n",
    "        den_set= np.append(den_set, new_den) \n",
    "        #print('r_set=', round(i*grid,2), 'z_set=', round(j*grid,2), 'den_set=', new_den)\n",
    "#         if(dens_r_e_10m[(dens_r_e_10m==i)&(height_e_10m==j)]>0).any():\n",
    "#             print(dens_r_e_10m[(dens_r_e_10m==i)&(height_e_10m==j)])"
   ]
  },
  {
   "cell_type": "code",
   "execution_count": 63,
   "id": "5e2a083d",
   "metadata": {},
   "outputs": [
    {
     "name": "stdout",
     "output_type": "stream",
     "text": [
      "error at r= 0.02 set value= 0.0\n"
     ]
    }
   ],
   "source": [
    "for i in range(0,len(rad_e_20m)):\n",
    "    if(rad_e_20m[i]-r_set[i] > grid):\n",
    "        print(\"error at r=\", rad_e_20m[i], 'set value=', r_set[i])\n",
    "        break"
   ]
  },
  {
   "cell_type": "code",
   "execution_count": 48,
   "id": "29f6b1f7",
   "metadata": {},
   "outputs": [
    {
     "name": "stdout",
     "output_type": "stream",
     "text": [
      "range(0, 3470, 2)\n"
     ]
    }
   ],
   "source": [
    "print(range(0, int(np.max(rad_e_10m)/grid), 2))"
   ]
  },
  {
   "cell_type": "code",
   "execution_count": null,
   "id": "645ce220",
   "metadata": {},
   "outputs": [],
   "source": []
  }
 ],
 "metadata": {
  "kernelspec": {
   "display_name": "Python 3",
   "language": "python",
   "name": "python3"
  },
  "language_info": {
   "codemirror_mode": {
    "name": "ipython",
    "version": 3
   },
   "file_extension": ".py",
   "mimetype": "text/x-python",
   "name": "python",
   "nbconvert_exporter": "python",
   "pygments_lexer": "ipython3",
   "version": "3.8.8"
  }
 },
 "nbformat": 4,
 "nbformat_minor": 5
}
