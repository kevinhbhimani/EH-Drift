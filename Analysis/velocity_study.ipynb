{
 "cells": [
  {
   "cell_type": "code",
   "execution_count": 1,
   "id": "55653957-48e8-45bd-9e26-b555afa93078",
   "metadata": {
    "tags": []
   },
   "outputs": [
    {
     "data": {
      "text/html": [
       "<style>.container { width:100% !important; }</style>"
      ],
      "text/plain": [
       "<IPython.core.display.HTML object>"
      ]
     },
     "metadata": {},
     "output_type": "display_data"
    }
   ],
   "source": [
    "import numpy as np\n",
    "import matplotlib.pyplot as plt\n",
    "plt.style.use('default')\n",
    "import matplotlib\n",
    "import pandas as pd\n",
    "import os\n",
    "import re\n",
    "from tqdm import tqdm\n",
    "from matplotlib.pyplot import cm\n",
    "\n",
    "color_array=np.linspace(0,1,11)\n",
    "cmap = plt.cm.tab20b\n",
    "\n",
    "from IPython.display import display, HTML\n",
    "display(HTML(\"<style>.container { width:100% !important; }</style>\")) #makes the notebook wider\n",
    "plt.style.use('default')"
   ]
  },
  {
   "cell_type": "code",
   "execution_count": 2,
   "id": "b6275667-5fcf-486c-81c2-af7fcd8a1201",
   "metadata": {
    "tags": []
   },
   "outputs": [],
   "source": [
    "sim_time=1000\n",
    "time_step_calc = 0.2\n",
    "n_iter = sim_time/time_step_calc\n",
    "step_time_out = 10/time_step_calc #out every step for now\n",
    "time = np.linspace(start=0, stop= n_iter*time_step_calc - step_time_out*time_step_calc, num= (int) (n_iter/step_time_out))"
   ]
  },
  {
   "cell_type": "code",
   "execution_count": 3,
   "id": "2e93f4ae-0ade-4c5d-9130-d4566c6ff216",
   "metadata": {
    "tags": []
   },
   "outputs": [],
   "source": [
    "data_dir = '/pscratch/sd/k/kbhimani/siggen_ccd_data/velocity_test/'"
   ]
  },
  {
   "cell_type": "code",
   "execution_count": 152,
   "id": "399e03ae-a8db-4b3d-863f-9cccbc7fe6c1",
   "metadata": {
    "tags": []
   },
   "outputs": [
    {
     "name": "stderr",
     "output_type": "stream",
     "text": [
      "  0%|          | 0/10 [00:00<?, ?it/s]"
     ]
    },
    {
     "name": "stdout",
     "output_type": "stream",
     "text": [
      "/pscratch/sd/k/kbhimani/siggen_ccd_data/velocity_test/grid_0.0200\n"
     ]
    },
    {
     "name": "stderr",
     "output_type": "stream",
     "text": [
      " 10%|█         | 1/10 [00:10<01:33, 10.37s/it]"
     ]
    },
    {
     "name": "stdout",
     "output_type": "stream",
     "text": [
      "/pscratch/sd/k/kbhimani/siggen_ccd_data/velocity_test/grid_0.0500\n",
      "/pscratch/sd/k/kbhimani/siggen_ccd_data/velocity_test/grid_0.0350\n"
     ]
    },
    {
     "name": "stderr",
     "output_type": "stream",
     "text": [
      " 30%|███       | 3/10 [00:15<00:31,  4.45s/it]"
     ]
    },
    {
     "name": "stdout",
     "output_type": "stream",
     "text": [
      "/pscratch/sd/k/kbhimani/siggen_ccd_data/velocity_test/grid_0.0300\n"
     ]
    },
    {
     "name": "stderr",
     "output_type": "stream",
     "text": [
      " 40%|████      | 4/10 [00:21<00:31,  5.23s/it]"
     ]
    },
    {
     "name": "stdout",
     "output_type": "stream",
     "text": [
      "/pscratch/sd/k/kbhimani/siggen_ccd_data/velocity_test/grid_0.0050\n",
      "/pscratch/sd/k/kbhimani/siggen_ccd_data/velocity_test/grid_0.0250\n"
     ]
    },
    {
     "name": "stderr",
     "output_type": "stream",
     "text": [
      " 60%|██████    | 6/10 [00:29<00:17,  4.48s/it]"
     ]
    },
    {
     "name": "stdout",
     "output_type": "stream",
     "text": [
      "/pscratch/sd/k/kbhimani/siggen_ccd_data/velocity_test/grid_0.0100\n",
      "/pscratch/sd/k/kbhimani/siggen_ccd_data/velocity_test/grid_0.0550\n",
      "/pscratch/sd/k/kbhimani/siggen_ccd_data/velocity_test/grid_0.0150\n",
      "/pscratch/sd/k/kbhimani/siggen_ccd_data/velocity_test/grid_0.0400\n"
     ]
    },
    {
     "name": "stderr",
     "output_type": "stream",
     "text": [
      "100%|██████████| 10/10 [00:33<00:00,  3.34s/it]"
     ]
    },
    {
     "name": "stdout",
     "output_type": "stream",
     "text": [
      "Number skipped was 0\n"
     ]
    },
    {
     "name": "stderr",
     "output_type": "stream",
     "text": [
      "\n"
     ]
    }
   ],
   "source": [
    "rad_surface =np.array([])\n",
    "height_surface = np.array([])\n",
    "vel_r_surface=np.array([])\n",
    "vel_z_surface=np.array([])\n",
    "grid_surface=np.array([])\n",
    "count=0\n",
    "# data = pd.DataFrame(columns=['r', 'z', 'vel_r', 'vel_z', 'rho'])\n",
    "data_vel = pd.DataFrame()\n",
    "for f in tqdm(os.listdir(data_dir)):\n",
    "    if('grid' in data_dir + f):\n",
    "        grid_test = float(f.split(\"_\")[1])\n",
    "        f_grid = data_dir  + f\n",
    "        print(f_grid)\n",
    "        # if(grid_test!=0.03):\n",
    "        #     continue\n",
    "        for f_g in (os.listdir(f_grid)):\n",
    "            if('data_iter_' in f_g):\n",
    "                # time_array.append(f_g.split('_')[2].split('.')[0])\n",
    "                df=pd.read_csv(data_dir+f+'/'+f_g, delimiter=',',names=['r', 'z', 'vel_r', 'vel_z', 'rho'])\n",
    "                # max_df = df[df.rho == df.rho.max()]#.iloc[0]\n",
    "                # if(len(max_df)>1):\n",
    "                #     print(\"Found it!\")\n",
    "                #     max_df = df[df.rho == df.rho.max()].iloc[0]\n",
    "                #     break\n",
    "                # if(grid_test==0.03):\n",
    "                #     print(df[(df['r'] < 15.02) & (df['r'] > 14.98) & (df['z'] < 5.02) & (df['z'] > 4.98)])\n",
    "                #     break\n",
    "                try:\n",
    "                    # rad = np.append(rad, max_df.r.values==15)\n",
    "                    # rad_df = df[(df['r'] < 15.02) & (df['r'] > 14.98) & (df['z'] < 5.02) & (df['z'] > 4.98)]\n",
    "                    rad_df = df[(df['r'] < 15.02) & (df['r'] > 14.98) & (df['z'] ==grid_test)]\n",
    "                    # if(grid_test==0.03):\n",
    "                    #     print(\"We shoud append\", rad_df)\n",
    "                    #     break\n",
    "                    if (len(rad_df)>0):\n",
    "                        if(len(rad_df)>1):\n",
    "                            rad_df=rad_df.head(1)\n",
    "                        # pd.concat([data_vel, rad_df], ignore_index=True)\n",
    "                        rad_surface = np.append(rad_surface, rad_df.r.values)\n",
    "                        height_surface = np.append(height_surface, rad_df.z.values)\n",
    "                        vel_r_surface=np.append(vel_r_surface,rad_df.vel_r.values)\n",
    "                        vel_z_surface=np.append(vel_z_surface,rad_df.vel_z.values)\n",
    "                        a=np.empty(len(rad_df.vel_z.values)); a.fill(float(f.split(\"_\")[1]))\n",
    "                        grid_surface=np.append(grid_surface,a)\n",
    "                except IndexError:\n",
    "                    count+=1\n",
    "                    continue\n",
    "                # rad.append(max_df.r.values[0])\n",
    "                # height.append(max_df.z.values[0])\n",
    "                # vel.append((max_df.vel_r.values[0]**2 + max_df.vel_z.values[0]**2)**0.5)\n",
    "                # grid.append(f.split(\"_\")[1])\n",
    "print(\"Number skipped was\", count)"
   ]
  },
  {
   "cell_type": "code",
   "execution_count": 161,
   "id": "14c54b29-1157-45b5-9541-1042a5fb86de",
   "metadata": {
    "tags": []
   },
   "outputs": [
    {
     "name": "stdout",
     "output_type": "stream",
     "text": [
      "501\n"
     ]
    }
   ],
   "source": [
    "print(len(vel_z_surface))"
   ]
  },
  {
   "cell_type": "code",
   "execution_count": 153,
   "id": "483ed0d1-9c47-4b79-9c43-330aa6cd86d7",
   "metadata": {
    "tags": []
   },
   "outputs": [
    {
     "name": "stdout",
     "output_type": "stream",
     "text": [
      "[15. 15. 15. 15. 15. 15. 15. 15. 15. 15. 15. 15. 15. 15. 15. 15. 15. 15.\n",
      " 15. 15. 15. 15. 15. 15. 15. 15. 15. 15. 15. 15. 15. 15. 15. 15. 15. 15.\n",
      " 15. 15. 15. 15. 15. 15. 15. 15. 15. 15. 15. 15. 15. 15. 15. 15. 15. 15.\n",
      " 15. 15. 15. 15. 15. 15. 15. 15. 15. 15. 15. 15. 15. 15. 15. 15. 15. 15.\n",
      " 15. 15. 15. 15. 15. 15. 15. 15. 15. 15. 15. 15. 15. 15. 15. 15. 15. 15.\n",
      " 15. 15. 15. 15. 15. 15. 15. 15. 15. 15.]\n"
     ]
    }
   ],
   "source": [
    "print(rad_surface[grid_surface==0.02])"
   ]
  },
  {
   "cell_type": "code",
   "execution_count": 154,
   "id": "1916be59-0e6f-44ee-af0c-20870c10bda4",
   "metadata": {
    "tags": []
   },
   "outputs": [
    {
     "name": "stdout",
     "output_type": "stream",
     "text": [
      "[0.02  0.025 0.03  0.035]\n"
     ]
    }
   ],
   "source": [
    "print(np.intersect1d(grid,grid_surface))"
   ]
  },
  {
   "cell_type": "code",
   "execution_count": 155,
   "id": "a3f4e202-20af-4f5f-bde1-21389fb4c4ca",
   "metadata": {
    "tags": []
   },
   "outputs": [
    {
     "name": "stderr",
     "output_type": "stream",
     "text": [
      "  0%|          | 0/10 [00:00<?, ?it/s]"
     ]
    },
    {
     "name": "stdout",
     "output_type": "stream",
     "text": [
      "/pscratch/sd/k/kbhimani/siggen_ccd_data/velocity_test/grid_0.0200\n"
     ]
    },
    {
     "name": "stderr",
     "output_type": "stream",
     "text": [
      " 10%|█         | 1/10 [00:10<01:32, 10.26s/it]"
     ]
    },
    {
     "name": "stdout",
     "output_type": "stream",
     "text": [
      "/pscratch/sd/k/kbhimani/siggen_ccd_data/velocity_test/grid_0.0500\n",
      "/pscratch/sd/k/kbhimani/siggen_ccd_data/velocity_test/grid_0.0350\n"
     ]
    },
    {
     "name": "stderr",
     "output_type": "stream",
     "text": [
      " 30%|███       | 3/10 [00:14<00:30,  4.34s/it]"
     ]
    },
    {
     "name": "stdout",
     "output_type": "stream",
     "text": [
      "/pscratch/sd/k/kbhimani/siggen_ccd_data/velocity_test/grid_0.0300\n"
     ]
    },
    {
     "name": "stderr",
     "output_type": "stream",
     "text": [
      " 40%|████      | 4/10 [00:21<00:31,  5.21s/it]"
     ]
    },
    {
     "name": "stdout",
     "output_type": "stream",
     "text": [
      "/pscratch/sd/k/kbhimani/siggen_ccd_data/velocity_test/grid_0.0050\n",
      "/pscratch/sd/k/kbhimani/siggen_ccd_data/velocity_test/grid_0.0250\n"
     ]
    },
    {
     "name": "stderr",
     "output_type": "stream",
     "text": [
      " 60%|██████    | 6/10 [00:29<00:17,  4.49s/it]"
     ]
    },
    {
     "name": "stdout",
     "output_type": "stream",
     "text": [
      "/pscratch/sd/k/kbhimani/siggen_ccd_data/velocity_test/grid_0.0100\n",
      "/pscratch/sd/k/kbhimani/siggen_ccd_data/velocity_test/grid_0.0550\n",
      "/pscratch/sd/k/kbhimani/siggen_ccd_data/velocity_test/grid_0.0150\n",
      "/pscratch/sd/k/kbhimani/siggen_ccd_data/velocity_test/grid_0.0400\n"
     ]
    },
    {
     "name": "stderr",
     "output_type": "stream",
     "text": [
      "100%|██████████| 10/10 [00:33<00:00,  3.34s/it]"
     ]
    },
    {
     "name": "stdout",
     "output_type": "stream",
     "text": [
      "Number skipped was 0\n"
     ]
    },
    {
     "name": "stderr",
     "output_type": "stream",
     "text": [
      "\n"
     ]
    }
   ],
   "source": [
    "rad =np.array([])\n",
    "height = np.array([])\n",
    "vel_r=np.array([])\n",
    "vel_z=np.array([])\n",
    "grid=np.array([])\n",
    "count=0\n",
    "# data = pd.DataFrame(columns=['r', 'z', 'vel_r', 'vel_z', 'rho'])\n",
    "data_vel = pd.DataFrame()\n",
    "for f in tqdm(os.listdir(data_dir)):\n",
    "    if('grid' in data_dir + f):\n",
    "        grid_test = float(f.split(\"_\")[1])\n",
    "        f_grid = data_dir  + f\n",
    "        print(f_grid)\n",
    "        # if(grid_test!=0.03):\n",
    "        #     continue\n",
    "        for f_g in (os.listdir(f_grid)):\n",
    "            if('data_iter_' in f_g):\n",
    "                # time_array.append(f_g.split('_')[2].split('.')[0])\n",
    "                df=pd.read_csv(data_dir+f+'/'+f_g, delimiter=',',names=['r', 'z', 'vel_r', 'vel_z', 'rho'])\n",
    "                # max_df = df[df.rho == df.rho.max()]#.iloc[0]\n",
    "                # if(len(max_df)>1):\n",
    "                #     print(\"Found it!\")\n",
    "                #     max_df = df[df.rho == df.rho.max()].iloc[0]\n",
    "                #     break\n",
    "                # if(grid_test==0.03):\n",
    "                #     print(df[(df['r'] < 15.02) & (df['r'] > 14.98) & (df['z'] < 5.02) & (df['z'] > 4.98)])\n",
    "                #     break\n",
    "                try:\n",
    "                    # rad = np.append(rad, max_df.r.values==15)\n",
    "                    # rad_df = df[(df['r'] < 15.02) & (df['r'] > 14.98) & (df['z'] < 5.02) & (df['z'] > 4.98)]\n",
    "                    rad_df = df[(df['r'] < 15.02) & (df['r'] > 14.98) & (df['z'] < 0.12) & (df['z'] > 0.08)]\n",
    "                    # if(grid_test==0.03):\n",
    "                    #     print(\"We shoud append\", rad_df)\n",
    "                    #     break\n",
    "                    if (len(rad_df)>0):\n",
    "                        if(len(rad_df)>1):\n",
    "                            rad_df=rad_df.head(1)\n",
    "                        # pd.concat([data_vel, rad_df], ignore_index=True)\n",
    "                        rad = np.append(rad, rad_df.r.values)\n",
    "                        height = np.append(height, rad_df.z.values)\n",
    "                        vel_r=np.append(vel_r,rad_df.vel_r.values)\n",
    "                        vel_z=np.append(vel_z,rad_df.vel_z.values)\n",
    "                        a=np.empty(len(rad_df.vel_z.values)); a.fill(float(f.split(\"_\")[1]))\n",
    "                        grid=np.append(grid,a)\n",
    "                except IndexError:\n",
    "                    count+=1\n",
    "                    continue\n",
    "                # rad.append(max_df.r.values[0])\n",
    "                # height.append(max_df.z.values[0])\n",
    "                # vel.append((max_df.vel_r.values[0]**2 + max_df.vel_z.values[0]**2)**0.5)\n",
    "                # grid.append(f.split(\"_\")[1])\n",
    "print(\"Number skipped was\", count)"
   ]
  },
  {
   "cell_type": "code",
   "execution_count": 119,
   "id": "b37d4125-2504-47bc-9e04-b95e51b35e8e",
   "metadata": {
    "tags": []
   },
   "outputs": [
    {
     "name": "stdout",
     "output_type": "stream",
     "text": [
      "499\n",
      "499\n"
     ]
    }
   ],
   "source": [
    "print(len(grid))\n",
    "print(len(rad))"
   ]
  },
  {
   "cell_type": "code",
   "execution_count": 121,
   "id": "937330b3-b076-4fe4-b925-78201db20464",
   "metadata": {
    "tags": []
   },
   "outputs": [],
   "source": [
    "np.savetxt('plot_data/rad.txt', rad)\n",
    "np.savetxt('plot_data/height.txt', height)\n",
    "np.savetxt('plot_data/vel_r.txt', vel_r)\n",
    "np.savetxt('plot_data/vel_z.txt', vel_z)\n",
    "np.savetxt('plot_data/grid.txt', grid)"
   ]
  },
  {
   "cell_type": "code",
   "execution_count": 122,
   "id": "17edf8bf-715a-44b7-91fe-28f4381a0b47",
   "metadata": {
    "tags": []
   },
   "outputs": [],
   "source": [
    "rad = np.loadtxt('plot_data/rad.txt')\n",
    "height = np.loadtxt('plot_data/height.txt')\n",
    "vel_r = np.loadtxt('plot_data/vel_r.txt')\n",
    "vel_z = np.loadtxt('plot_data/vel_z.txt')\n",
    "grid = np.loadtxt('plot_data/grid.txt')"
   ]
  },
  {
   "cell_type": "code",
   "execution_count": 123,
   "id": "8d5cea78-2d33-40d5-9766-2b2e98c93e8f",
   "metadata": {
    "tags": []
   },
   "outputs": [
    {
     "name": "stdout",
     "output_type": "stream",
     "text": [
      "499\n"
     ]
    }
   ],
   "source": [
    "print(len(height))"
   ]
  },
  {
   "cell_type": "code",
   "execution_count": 124,
   "id": "ba4a3646-d7e9-4149-9e04-fd48d0dd2f04",
   "metadata": {
    "tags": []
   },
   "outputs": [
    {
     "name": "stdout",
     "output_type": "stream",
     "text": [
      "[-3.765007 -3.764987 -3.765008 -3.764996 -3.764983 -3.764996 -3.76097\n",
      " -3.764999 -3.765    -3.764984 -3.764995 -3.761706 -3.764984 -3.764982\n",
      " -3.765008 -3.764987 -3.763952 -3.764996 -3.764988 -3.761188 -3.765008\n",
      " -3.764984 -3.763429 -3.764995 -3.764999 -3.765007 -3.765007 -3.765008\n",
      " -3.764996 -3.765008 -3.765007 -3.764988 -3.765    -3.765007 -3.764987\n",
      " -3.760751 -3.765008 -3.765007 -3.764996 -3.764982 -3.764999 -3.764988\n",
      " -3.764988 -3.762478 -3.764999 -3.765007 -3.764987 -3.764979 -3.765008\n",
      " -3.762793 -3.7612   -3.760822 -3.764083 -3.764966 -3.764996 -3.76498\n",
      " -3.764995 -3.765007 -3.762036 -3.764978 -3.765    -3.764982 -3.764981\n",
      " -3.765    -3.765    -3.764984 -3.765    -3.765    -3.764995 -3.764999\n",
      " -3.765    -3.762902 -3.764988 -3.764984 -3.764981 -3.76498  -3.765007\n",
      " -3.764999 -3.765007 -3.764978 -3.765    -3.765008 -3.764638 -3.760868\n",
      " -3.764999 -3.764995 -3.765    -3.765    -3.765008 -3.764987 -3.765007\n",
      " -3.765008 -3.761512 -3.761834 -3.765008 -3.765008 -3.764988 -3.764988\n",
      " -3.765007 -3.765008]\n"
     ]
    }
   ],
   "source": [
    "print(vel_r[(rad==15.0000)&(height==5.0000)&(grid==0.02)])"
   ]
  },
  {
   "cell_type": "code",
   "execution_count": 248,
   "id": "e66ad0ec-ad7c-45b9-9ec9-8eb4910dddcb",
   "metadata": {
    "tags": []
   },
   "outputs": [
    {
     "data": {
      "image/png": "[encoded data removed]",
      "text/plain": [
       "<Figure size 640x480 with 1 Axes>"
      ]
     },
     "metadata": {},
     "output_type": "display_data"
    }
   ],
   "source": [
    "g =0.02\n",
    "r = rad[grid==g]\n",
    "v_r = vel_r[grid==g]\n",
    "v_z = vel_z[grid==g]\n",
    "z = height[grid==g]\n",
    "time_array=np.linspace(0,(len(r)-1)*10,len(r))\n",
    "plt.plot(z, (v_r**2+v_z**2)**0.5 * g,'bo', markersize=2)\n",
    "plt.xlabel('Height')\n",
    "plt.ylabel('Velocity')\n",
    "plt.title('Grid=20 micron')\n",
    "plt.savefig('figs/g_20_h.png')"
   ]
  },
  {
   "cell_type": "code",
   "execution_count": 169,
   "id": "d1df8353-431f-4166-b643-4960d9bd4acf",
   "metadata": {
    "tags": []
   },
   "outputs": [
    {
     "name": "stderr",
     "output_type": "stream",
     "text": [
      "  0%|          | 0/4 [00:00<?, ?it/s]\n"
     ]
    },
    {
     "ename": "IndexError",
     "evalue": "index 0 is out of bounds for axis 0 with size 0",
     "output_type": "error",
     "traceback": [
      "\u001b[0;31m---------------------------------------------------------------------------\u001b[0m",
      "\u001b[0;31mIndexError\u001b[0m                                Traceback (most recent call last)",
      "\u001b[0;32m/tmp/ipykernel_1874090/1374978780.py\u001b[0m in \u001b[0;36m<module>\u001b[0;34m\u001b[0m\n\u001b[1;32m      8\u001b[0m     \u001b[0mc\u001b[0m \u001b[0;34m=\u001b[0m \u001b[0mnext\u001b[0m\u001b[0;34m(\u001b[0m\u001b[0mcolor\u001b[0m\u001b[0;34m)\u001b[0m\u001b[0;34m\u001b[0m\u001b[0;34m\u001b[0m\u001b[0m\n\u001b[1;32m      9\u001b[0m     \u001b[0;31m# plt.plot(time_array, (v_r**2+v_z**2)**0.5 * g,'o', markersize=2, c=c, label='grid='+str(g))\u001b[0m\u001b[0;34m\u001b[0m\u001b[0;34m\u001b[0m\u001b[0m\n\u001b[0;32m---> 10\u001b[0;31m     \u001b[0mplt\u001b[0m\u001b[0;34m.\u001b[0m\u001b[0mplot\u001b[0m\u001b[0;34m(\u001b[0m\u001b[0mg\u001b[0m\u001b[0;34m,\u001b[0m \u001b[0;34m(\u001b[0m\u001b[0;34m(\u001b[0m\u001b[0;34m(\u001b[0m\u001b[0mv_r\u001b[0m\u001b[0;34m**\u001b[0m\u001b[0;36m2\u001b[0m\u001b[0;34m+\u001b[0m\u001b[0mv_z\u001b[0m\u001b[0;34m**\u001b[0m\u001b[0;36m2\u001b[0m\u001b[0;34m)\u001b[0m\u001b[0;34m**\u001b[0m\u001b[0;36m0.5\u001b[0m \u001b[0;34m*\u001b[0m \u001b[0mg\u001b[0m\u001b[0;34m)\u001b[0m\u001b[0;34m[\u001b[0m\u001b[0;36m0\u001b[0m\u001b[0;34m]\u001b[0m\u001b[0;34m)\u001b[0m\u001b[0;34m,\u001b[0m\u001b[0;34m'o'\u001b[0m\u001b[0;34m,\u001b[0m \u001b[0mmarkersize\u001b[0m\u001b[0;34m=\u001b[0m\u001b[0;36m5\u001b[0m\u001b[0;34m,\u001b[0m \u001b[0mc\u001b[0m\u001b[0;34m=\u001b[0m\u001b[0mc\u001b[0m\u001b[0;34m,\u001b[0m \u001b[0mlabel\u001b[0m\u001b[0;34m=\u001b[0m\u001b[0;34m'grid='\u001b[0m\u001b[0;34m+\u001b[0m\u001b[0mstr\u001b[0m\u001b[0;34m(\u001b[0m\u001b[0mg\u001b[0m\u001b[0;34m)\u001b[0m\u001b[0;34m)\u001b[0m\u001b[0;34m\u001b[0m\u001b[0;34m\u001b[0m\u001b[0m\n\u001b[0m\u001b[1;32m     11\u001b[0m \u001b[0;34m\u001b[0m\u001b[0m\n\u001b[1;32m     12\u001b[0m \u001b[0mplt\u001b[0m\u001b[0;34m.\u001b[0m\u001b[0mxlabel\u001b[0m\u001b[0;34m(\u001b[0m\u001b[0;34m'Grid'\u001b[0m\u001b[0;34m)\u001b[0m\u001b[0;34m\u001b[0m\u001b[0;34m\u001b[0m\u001b[0m\n",
      "\u001b[0;31mIndexError\u001b[0m: index 0 is out of bounds for axis 0 with size 0"
     ]
    }
   ],
   "source": [
    "color = iter(cm.jet(np.linspace(0, 1, len(np.unique(grid)))))\n",
    "for g in tqdm(np.unique(grid)):\n",
    "    cut = (rad<15.02) & (rad>14.98) &(height<5.02)&(height>4.98)&(grid==g)\n",
    "    r = rad[cut]\n",
    "    v_r = vel_r[cut]\n",
    "    v_z = vel_z[cut]\n",
    "    time_array=np.linspace(0,(len(r)-1)*10,len(r))\n",
    "    c = next(color)\n",
    "    # plt.plot(time_array, (v_r**2+v_z**2)**0.5 * g,'o', markersize=2, c=c, label='grid='+str(g))\n",
    "    plt.plot(g, (((v_r**2+v_z**2)**0.5 * g)[0]),'o', markersize=5, c=c, label='grid='+str(g))\n",
    "\n",
    "plt.xlabel('Grid')\n",
    "plt.ylabel('Velocity (mm/ns)')\n",
    "plt.ylim(0.06,0.10)\n",
    "plt.title(\"Velocities magnitudes at r=15, z=5\")\n",
    "plt.legend()\n",
    "plt.savefig('figs/grids.png')"
   ]
  },
  {
   "cell_type": "code",
   "execution_count": 171,
   "id": "6ec41da6-dc6b-4a45-83ea-5d27c0600d65",
   "metadata": {},
   "outputs": [
    {
     "name": "stderr",
     "output_type": "stream",
     "text": [
      "100%|██████████| 4/4 [00:00<00:00, 261.04it/s]\n"
     ]
    },
    {
     "data": {
      "image/png": "[encoded data removed]",
      "text/plain": [
       "<Figure size 432x288 with 1 Axes>"
      ]
     },
     "metadata": {
      "needs_background": "light"
     },
     "output_type": "display_data"
    }
   ],
   "source": [
    "color = iter(cm.jet(np.linspace(0, 1, len(np.unique(grid)))))\n",
    "for g in tqdm(np.intersect1d(grid,grid_surface)):\n",
    "    cut = (grid==g)\n",
    "    r = rad[cut]\n",
    "    v_r = vel_r[cut]\n",
    "    v_z = vel_z[cut]\n",
    "    cut_surface = (grid_surface==g)\n",
    "    r_surface = rad_surface[cut_surface]\n",
    "    v_r_surface = vel_r_surface[cut_surface]\n",
    "    v_z_surface = vel_z_surface[cut_surface]\n",
    "    time_array=np.linspace(0,(len(r)-1)*10,len(r))\n",
    "    c = next(color)\n",
    "    plt.plot(g, (((v_r**2+v_z**2)**0.5 * g)[0]),'o', markersize=5, c='tab:blue', label='z=0.1')\n",
    "    plt.plot(g, (((v_r_surface**2+v_z_surface**2)**0.5 * g)[0]),'o', markersize=5, c='tab:red', label='z=0.1')\n",
    "\n",
    "plt.xlabel('Grid')\n",
    "plt.ylabel('Velocity (mm/ns)')\n",
    "# plt.ylim(0.06,0.10)\n",
    "plt.title(\"Velocities magnitudes at r=15\")\n",
    "plt.legend(['z=0.1', 'Surface'])\n",
    "plt.savefig('figs/surface_comp.png')"
   ]
  },
  {
   "cell_type": "code",
   "execution_count": null,
   "id": "a97bb4c4-8ec6-4eca-99c4-8acd3e2f36f4",
   "metadata": {},
   "outputs": [],
   "source": []
  }
 ],
 "metadata": {
  "kernelspec": {
   "display_name": "Python 3 (ipykernel)",
   "language": "python",
   "name": "python3"
  },
  "language_info": {
   "codemirror_mode": {
    "name": "ipython",
    "version": 3
   },
   "file_extension": ".py",
   "mimetype": "text/x-python",
   "name": "python",
   "nbconvert_exporter": "python",
   "pygments_lexer": "ipython3",
   "version": "3.9.7"
  }
 },
 "nbformat": 4,
 "nbformat_minor": 5
}
